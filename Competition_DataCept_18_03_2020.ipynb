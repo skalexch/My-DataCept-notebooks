{
  "nbformat": 4,
  "nbformat_minor": 0,
  "metadata": {
    "colab": {
      "name": "Competition Datacept 18/03/2020.ipynb",
      "provenance": [],
      "collapsed_sections": []
    },
    "kernelspec": {
      "name": "python3",
      "display_name": "Python 3"
    },
    "accelerator": "GPU"
  },
  "cells": [
    {
      "cell_type": "code",
      "metadata": {
        "id": "BOtqwtjqpJpN",
        "colab_type": "code",
        "colab": {}
      },
      "source": [
        "import pandas as pd\n",
        "import numpy as np\n",
        "import matplotlib.pyplot as plt\n",
        "from sklearn.model_selection import train_test_split\n",
        "from sklearn.linear_model import LinearRegression\n",
        "from scipy import stats\n",
        "from scipy.stats import norm, skew #for some statistics\n",
        "from sklearn.ensemble import RandomForestRegressor,  GradientBoostingRegressor\n",
        "from sklearn.preprocessing import StandardScaler\n",
        "from sklearn.model_selection import KFold, cross_val_score, train_test_split\n",
        "from sklearn.metrics import mean_squared_error, mean_absolute_error, roc_auc_score \n",
        "import seaborn as sns  #advanced visualization library\n",
        "import requests, zipfile, io\n",
        "import warnings\n",
        "warnings.filterwarnings('ignore')"
      ],
      "execution_count": null,
      "outputs": []
    },
    {
      "cell_type": "code",
      "metadata": {
        "id": "JwY4dpGapXXZ",
        "colab_type": "code",
        "colab": {}
      },
      "source": [
        "train = pd.read_csv('/content/drive/My Drive/DATACEPT COMP7/train.csv')\n",
        "test = pd.read_csv('/content/drive/My Drive/DATACEPT COMP7/test.csv')\n",
        "sample_submission = pd.read_csv('/content/drive/My Drive/DATACEPT COMP7/Sample_sub.csv')"
      ],
      "execution_count": null,
      "outputs": []
    },
    {
      "cell_type": "code",
      "metadata": {
        "id": "PrHuE86_ppu0",
        "colab_type": "code",
        "colab": {
          "base_uri": "https://localhost:8080/",
          "height": 331
        },
        "outputId": "afc9c59b-becd-40ff-b8a2-5672712bc648"
      },
      "source": [
        "train.head()"
      ],
      "execution_count": null,
      "outputs": [
        {
          "output_type": "execute_result",
          "data": {
            "text/html": [
              "<div>\n",
              "<style scoped>\n",
              "    .dataframe tbody tr th:only-of-type {\n",
              "        vertical-align: middle;\n",
              "    }\n",
              "\n",
              "    .dataframe tbody tr th {\n",
              "        vertical-align: top;\n",
              "    }\n",
              "\n",
              "    .dataframe thead th {\n",
              "        text-align: right;\n",
              "    }\n",
              "</style>\n",
              "<table border=\"1\" class=\"dataframe\">\n",
              "  <thead>\n",
              "    <tr style=\"text-align: right;\">\n",
              "      <th></th>\n",
              "      <th>id</th>\n",
              "      <th>amount_tsh</th>\n",
              "      <th>date_recorded</th>\n",
              "      <th>funder</th>\n",
              "      <th>gps_height</th>\n",
              "      <th>installer</th>\n",
              "      <th>longitude</th>\n",
              "      <th>latitude</th>\n",
              "      <th>wpt_name</th>\n",
              "      <th>num_private</th>\n",
              "      <th>basin</th>\n",
              "      <th>subvillage</th>\n",
              "      <th>region</th>\n",
              "      <th>region_code</th>\n",
              "      <th>district_code</th>\n",
              "      <th>lga</th>\n",
              "      <th>ward</th>\n",
              "      <th>population</th>\n",
              "      <th>public_meeting</th>\n",
              "      <th>recorded_by</th>\n",
              "      <th>scheme_management</th>\n",
              "      <th>scheme_name</th>\n",
              "      <th>permit</th>\n",
              "      <th>construction_year</th>\n",
              "      <th>extraction_type</th>\n",
              "      <th>extraction_type_group</th>\n",
              "      <th>extraction_type_class</th>\n",
              "      <th>management</th>\n",
              "      <th>management_group</th>\n",
              "      <th>payment</th>\n",
              "      <th>payment_type</th>\n",
              "      <th>water_quality</th>\n",
              "      <th>quality_group</th>\n",
              "      <th>quantity</th>\n",
              "      <th>quantity_group</th>\n",
              "      <th>source</th>\n",
              "      <th>source_type</th>\n",
              "      <th>source_class</th>\n",
              "      <th>waterpoint_type</th>\n",
              "      <th>waterpoint_type_group</th>\n",
              "      <th>status_group</th>\n",
              "    </tr>\n",
              "  </thead>\n",
              "  <tbody>\n",
              "    <tr>\n",
              "      <th>0</th>\n",
              "      <td>64256</td>\n",
              "      <td>0.0</td>\n",
              "      <td>2013-01-18</td>\n",
              "      <td>Government Of Tanzania</td>\n",
              "      <td>404</td>\n",
              "      <td>District Water Department</td>\n",
              "      <td>37.995697</td>\n",
              "      <td>-10.519508</td>\n",
              "      <td>Kwa Mzee Mitumba</td>\n",
              "      <td>0</td>\n",
              "      <td>Ruvuma / Southern Coast</td>\n",
              "      <td>Jeshini</td>\n",
              "      <td>Lindi</td>\n",
              "      <td>8</td>\n",
              "      <td>3</td>\n",
              "      <td>Nachingwea</td>\n",
              "      <td>Kilima Rondo</td>\n",
              "      <td>100</td>\n",
              "      <td>True</td>\n",
              "      <td>GeoData Consultants Ltd</td>\n",
              "      <td>VWC</td>\n",
              "      <td>Nanjihi</td>\n",
              "      <td>False</td>\n",
              "      <td>1991</td>\n",
              "      <td>mono</td>\n",
              "      <td>mono</td>\n",
              "      <td>motorpump</td>\n",
              "      <td>vwc</td>\n",
              "      <td>user-group</td>\n",
              "      <td>never pay</td>\n",
              "      <td>never pay</td>\n",
              "      <td>soft</td>\n",
              "      <td>good</td>\n",
              "      <td>insufficient</td>\n",
              "      <td>insufficient</td>\n",
              "      <td>machine dbh</td>\n",
              "      <td>borehole</td>\n",
              "      <td>groundwater</td>\n",
              "      <td>communal standpipe</td>\n",
              "      <td>communal standpipe</td>\n",
              "      <td>3</td>\n",
              "    </tr>\n",
              "    <tr>\n",
              "      <th>1</th>\n",
              "      <td>58549</td>\n",
              "      <td>25.0</td>\n",
              "      <td>2011-07-13</td>\n",
              "      <td>Co</td>\n",
              "      <td>1533</td>\n",
              "      <td>DWE</td>\n",
              "      <td>31.044549</td>\n",
              "      <td>-7.496396</td>\n",
              "      <td>Kwa Lowasa</td>\n",
              "      <td>0</td>\n",
              "      <td>Lake Tanganyika</td>\n",
              "      <td>Majengo</td>\n",
              "      <td>Rukwa</td>\n",
              "      <td>15</td>\n",
              "      <td>3</td>\n",
              "      <td>Nkasi</td>\n",
              "      <td>Namanyere</td>\n",
              "      <td>250</td>\n",
              "      <td>True</td>\n",
              "      <td>GeoData Consultants Ltd</td>\n",
              "      <td>VWC</td>\n",
              "      <td>NaN</td>\n",
              "      <td>False</td>\n",
              "      <td>2006</td>\n",
              "      <td>india mark ii</td>\n",
              "      <td>india mark ii</td>\n",
              "      <td>handpump</td>\n",
              "      <td>vwc</td>\n",
              "      <td>user-group</td>\n",
              "      <td>pay per bucket</td>\n",
              "      <td>per bucket</td>\n",
              "      <td>salty</td>\n",
              "      <td>salty</td>\n",
              "      <td>insufficient</td>\n",
              "      <td>insufficient</td>\n",
              "      <td>machine dbh</td>\n",
              "      <td>borehole</td>\n",
              "      <td>groundwater</td>\n",
              "      <td>hand pump</td>\n",
              "      <td>hand pump</td>\n",
              "      <td>1</td>\n",
              "    </tr>\n",
              "    <tr>\n",
              "      <th>2</th>\n",
              "      <td>58518</td>\n",
              "      <td>20.0</td>\n",
              "      <td>2013-02-14</td>\n",
              "      <td>Muwsa</td>\n",
              "      <td>940</td>\n",
              "      <td>MUWSA</td>\n",
              "      <td>37.329657</td>\n",
              "      <td>-3.312754</td>\n",
              "      <td>Kibomu Kiosk</td>\n",
              "      <td>280</td>\n",
              "      <td>Pangani</td>\n",
              "      <td>Kati Street</td>\n",
              "      <td>Kilimanjaro</td>\n",
              "      <td>3</td>\n",
              "      <td>6</td>\n",
              "      <td>Moshi Urban</td>\n",
              "      <td>Longuo</td>\n",
              "      <td>20</td>\n",
              "      <td>True</td>\n",
              "      <td>GeoData Consultants Ltd</td>\n",
              "      <td>Water authority</td>\n",
              "      <td>Longuo water supply</td>\n",
              "      <td>True</td>\n",
              "      <td>2000</td>\n",
              "      <td>submersible</td>\n",
              "      <td>submersible</td>\n",
              "      <td>submersible</td>\n",
              "      <td>water authority</td>\n",
              "      <td>commercial</td>\n",
              "      <td>pay per bucket</td>\n",
              "      <td>per bucket</td>\n",
              "      <td>soft</td>\n",
              "      <td>good</td>\n",
              "      <td>insufficient</td>\n",
              "      <td>insufficient</td>\n",
              "      <td>machine dbh</td>\n",
              "      <td>borehole</td>\n",
              "      <td>groundwater</td>\n",
              "      <td>communal standpipe</td>\n",
              "      <td>communal standpipe</td>\n",
              "      <td>1</td>\n",
              "    </tr>\n",
              "    <tr>\n",
              "      <th>3</th>\n",
              "      <td>10511</td>\n",
              "      <td>0.0</td>\n",
              "      <td>2013-01-17</td>\n",
              "      <td>Wspd</td>\n",
              "      <td>1152</td>\n",
              "      <td>NYAKILANGANI CONSTRUCTION</td>\n",
              "      <td>33.581770</td>\n",
              "      <td>-2.162356</td>\n",
              "      <td>Kituo Cha Afya</td>\n",
              "      <td>0</td>\n",
              "      <td>Lake Victoria</td>\n",
              "      <td>Stoo</td>\n",
              "      <td>Mara</td>\n",
              "      <td>20</td>\n",
              "      <td>4</td>\n",
              "      <td>Bunda</td>\n",
              "      <td>Butimba</td>\n",
              "      <td>1000</td>\n",
              "      <td>True</td>\n",
              "      <td>GeoData Consultants Ltd</td>\n",
              "      <td>Parastatal</td>\n",
              "      <td>NaN</td>\n",
              "      <td>True</td>\n",
              "      <td>2006</td>\n",
              "      <td>india mark ii</td>\n",
              "      <td>india mark ii</td>\n",
              "      <td>handpump</td>\n",
              "      <td>parastatal</td>\n",
              "      <td>parastatal</td>\n",
              "      <td>unknown</td>\n",
              "      <td>unknown</td>\n",
              "      <td>salty</td>\n",
              "      <td>salty</td>\n",
              "      <td>insufficient</td>\n",
              "      <td>insufficient</td>\n",
              "      <td>machine dbh</td>\n",
              "      <td>borehole</td>\n",
              "      <td>groundwater</td>\n",
              "      <td>hand pump</td>\n",
              "      <td>hand pump</td>\n",
              "      <td>1</td>\n",
              "    </tr>\n",
              "    <tr>\n",
              "      <th>4</th>\n",
              "      <td>28655</td>\n",
              "      <td>0.0</td>\n",
              "      <td>2011-03-07</td>\n",
              "      <td>Tanza</td>\n",
              "      <td>1669</td>\n",
              "      <td>Mpang</td>\n",
              "      <td>34.929912</td>\n",
              "      <td>-9.411365</td>\n",
              "      <td>none</td>\n",
              "      <td>0</td>\n",
              "      <td>Rufiji</td>\n",
              "      <td>Utilimwani</td>\n",
              "      <td>Iringa</td>\n",
              "      <td>11</td>\n",
              "      <td>4</td>\n",
              "      <td>Njombe</td>\n",
              "      <td>Yakobi</td>\n",
              "      <td>1</td>\n",
              "      <td>True</td>\n",
              "      <td>GeoData Consultants Ltd</td>\n",
              "      <td>VWC</td>\n",
              "      <td>Lutove</td>\n",
              "      <td>False</td>\n",
              "      <td>2000</td>\n",
              "      <td>gravity</td>\n",
              "      <td>gravity</td>\n",
              "      <td>gravity</td>\n",
              "      <td>vwc</td>\n",
              "      <td>user-group</td>\n",
              "      <td>never pay</td>\n",
              "      <td>never pay</td>\n",
              "      <td>soft</td>\n",
              "      <td>good</td>\n",
              "      <td>enough</td>\n",
              "      <td>enough</td>\n",
              "      <td>spring</td>\n",
              "      <td>spring</td>\n",
              "      <td>groundwater</td>\n",
              "      <td>communal standpipe</td>\n",
              "      <td>communal standpipe</td>\n",
              "      <td>1</td>\n",
              "    </tr>\n",
              "  </tbody>\n",
              "</table>\n",
              "</div>"
            ],
            "text/plain": [
              "      id  amount_tsh  ... waterpoint_type_group status_group\n",
              "0  64256         0.0  ...    communal standpipe            3\n",
              "1  58549        25.0  ...             hand pump            1\n",
              "2  58518        20.0  ...    communal standpipe            1\n",
              "3  10511         0.0  ...             hand pump            1\n",
              "4  28655         0.0  ...    communal standpipe            1\n",
              "\n",
              "[5 rows x 41 columns]"
            ]
          },
          "metadata": {
            "tags": []
          },
          "execution_count": 144
        }
      ]
    },
    {
      "cell_type": "code",
      "metadata": {
        "id": "6AaduTkLzcLt",
        "colab_type": "code",
        "colab": {
          "base_uri": "https://localhost:8080/",
          "height": 594
        },
        "outputId": "76984f56-1f77-4674-a70e-c141231888ca"
      },
      "source": [
        "test.select_dtypes(exclude=[\"number\",\"bool_\"]).nunique()"
      ],
      "execution_count": null,
      "outputs": [
        {
          "output_type": "execute_result",
          "data": {
            "text/plain": [
              "date_recorded             314\n",
              "funder                    772\n",
              "installer                 857\n",
              "wpt_name                 6624\n",
              "basin                       9\n",
              "subvillage               5766\n",
              "region                     21\n",
              "lga                       124\n",
              "ward                     1805\n",
              "public_meeting              2\n",
              "recorded_by                 1\n",
              "scheme_management          11\n",
              "scheme_name              1440\n",
              "permit                      2\n",
              "extraction_type            18\n",
              "extraction_type_group      13\n",
              "extraction_type_class       7\n",
              "management                 12\n",
              "management_group            5\n",
              "payment                     7\n",
              "payment_type                7\n",
              "water_quality               8\n",
              "quality_group               6\n",
              "quantity                    5\n",
              "quantity_group              5\n",
              "source                     10\n",
              "source_type                 7\n",
              "source_class                3\n",
              "waterpoint_type             7\n",
              "waterpoint_type_group       6\n",
              "dtype: int64"
            ]
          },
          "metadata": {
            "tags": []
          },
          "execution_count": 145
        }
      ]
    },
    {
      "cell_type": "code",
      "metadata": {
        "id": "ZerKx5GjsCok",
        "colab_type": "code",
        "colab": {
          "base_uri": "https://localhost:8080/",
          "height": 594
        },
        "outputId": "0adc080b-4b01-4ca9-f4c7-044e3300cdc6"
      },
      "source": [
        "train.select_dtypes(exclude=[\"number\",\"bool_\"]).nunique()"
      ],
      "execution_count": null,
      "outputs": [
        {
          "output_type": "execute_result",
          "data": {
            "text/plain": [
              "date_recorded              353\n",
              "funder                    1744\n",
              "installer                 1963\n",
              "wpt_name                 32392\n",
              "basin                        9\n",
              "subvillage               17763\n",
              "region                      21\n",
              "lga                        125\n",
              "ward                      2085\n",
              "public_meeting               2\n",
              "recorded_by                  1\n",
              "scheme_management           12\n",
              "scheme_name               2581\n",
              "permit                       2\n",
              "extraction_type             18\n",
              "extraction_type_group       13\n",
              "extraction_type_class        7\n",
              "management                  12\n",
              "management_group             5\n",
              "payment                      7\n",
              "payment_type                 7\n",
              "water_quality                8\n",
              "quality_group                6\n",
              "quantity                     5\n",
              "quantity_group               5\n",
              "source                      10\n",
              "source_type                  7\n",
              "source_class                 3\n",
              "waterpoint_type              7\n",
              "waterpoint_type_group        6\n",
              "dtype: int64"
            ]
          },
          "metadata": {
            "tags": []
          },
          "execution_count": 146
        }
      ]
    },
    {
      "cell_type": "code",
      "metadata": {
        "id": "NXbbWBud_ypw",
        "colab_type": "code",
        "colab": {}
      },
      "source": [
        "l1=train.lga.unique().tolist()\n",
        "l2=test.lga.unique().tolist()\n"
      ],
      "execution_count": null,
      "outputs": []
    },
    {
      "cell_type": "code",
      "metadata": {
        "id": "bQyojHapAE6M",
        "colab_type": "code",
        "colab": {}
      },
      "source": [
        "s=set(l1)-set(l2)"
      ],
      "execution_count": null,
      "outputs": []
    },
    {
      "cell_type": "code",
      "metadata": {
        "id": "7TezVoZWAIwK",
        "colab_type": "code",
        "colab": {
          "base_uri": "https://localhost:8080/",
          "height": 36
        },
        "outputId": "445cfe45-3630-468c-f5a6-b250087d4491"
      },
      "source": [
        "s"
      ],
      "execution_count": null,
      "outputs": [
        {
          "output_type": "execute_result",
          "data": {
            "text/plain": [
              "{'Nyamagana'}"
            ]
          },
          "metadata": {
            "tags": []
          },
          "execution_count": 149
        }
      ]
    },
    {
      "cell_type": "code",
      "metadata": {
        "id": "mONeJ1x6s18B",
        "colab_type": "code",
        "colab": {
          "base_uri": "https://localhost:8080/",
          "height": 694
        },
        "outputId": "bebff111-e6ff-46e5-9ed7-9892b51f97ff"
      },
      "source": [
        "corr_mat=train.corr(method='pearson')\n",
        "plt.figure(figsize=(20,10))\n",
        "sns.heatmap(corr_mat,vmax=1,square=True,annot=True,cmap='cubehelix')"
      ],
      "execution_count": null,
      "outputs": [
        {
          "output_type": "execute_result",
          "data": {
            "text/plain": [
              "<matplotlib.axes._subplots.AxesSubplot at 0x7fec95e48b38>"
            ]
          },
          "metadata": {
            "tags": []
          },
          "execution_count": 150
        },
        {
          "output_type": "display_data",
          "data": {
            "image/png": "[encoded data removed]",
            "text/plain": [
              "<Figure size 1440x720 with 2 Axes>"
            ]
          },
          "metadata": {
            "tags": []
          }
        }
      ]
    },
    {
      "cell_type": "code",
      "metadata": {
        "id": "_VNc3I4WzSZZ",
        "colab_type": "code",
        "colab": {}
      },
      "source": [
        ""
      ],
      "execution_count": null,
      "outputs": []
    },
    {
      "cell_type": "code",
      "metadata": {
        "id": "jCbUenGcpZdS",
        "colab_type": "code",
        "colab": {
          "base_uri": "https://localhost:8080/",
          "height": 520
        },
        "outputId": "13ae1823-bd06-475c-e3d1-326caaf53960"
      },
      "source": [
        "missing_percentage=(train.isna().sum()/len(train)).sort_values(ascending=False)\n",
        "missing_percentage"
      ],
      "execution_count": null,
      "outputs": [
        {
          "output_type": "execute_result",
          "data": {
            "text/plain": [
              "status_group_per_construction_year    0.0\n",
              "status_group_per_lga                  0.0\n",
              "basin                                 0.0\n",
              "district_code                         0.0\n",
              "extraction_type                       0.0\n",
              "extraction_type_class                 0.0\n",
              "gps_height                            0.0\n",
              "latitude                              0.0\n",
              "lga                                   0.0\n",
              "longitude                             0.0\n",
              "management                            0.0\n",
              "management_group                      0.0\n",
              "payment                               0.0\n",
              "payment_type                          0.0\n",
              "population                            0.0\n",
              "quantity                              0.0\n",
              "recorded_by                           0.0\n",
              "region                                0.0\n",
              "region_code                           0.0\n",
              "source                                0.0\n",
              "source_class                          0.0\n",
              "source_type                           0.0\n",
              "water_quality                         0.0\n",
              "waterpoint_type                       0.0\n",
              "waterpoint_type_group                 0.0\n",
              "amount_tsh                            0.0\n",
              "dtype: float64"
            ]
          },
          "metadata": {
            "tags": []
          },
          "execution_count": 159
        }
      ]
    },
    {
      "cell_type": "code",
      "metadata": {
        "id": "Z3KCbvDTrrXe",
        "colab_type": "code",
        "colab": {}
      },
      "source": [
        "to_drop=[\"num_private\",\"ward\",\"wpt_name\",\"construction_year\",\"date_recorded\",\"id\",\"scheme_name\",\"scheme_management\",\"installer\",\"funder\",\"public_meeting\",\"permit\",\"subvillage\",\"quantity_group\",\"quality_group\",\"extraction_type_group\"]\n"
      ],
      "execution_count": null,
      "outputs": []
    },
    {
      "cell_type": "code",
      "metadata": {
        "id": "L_SoGWH6pZe-",
        "colab_type": "code",
        "colab": {}
      },
      "source": [
        "Y=train.status_group\n",
        "ids=test[\"id\"]"
      ],
      "execution_count": null,
      "outputs": []
    },
    {
      "cell_type": "code",
      "metadata": {
        "id": "DVPFvNr7pZgy",
        "colab_type": "code",
        "colab": {}
      },
      "source": [
        "all_data = pd.concat((train, test)).reset_index(drop = True)\n"
      ],
      "execution_count": null,
      "outputs": []
    },
    {
      "cell_type": "code",
      "metadata": {
        "id": "tScXVISTtmr7",
        "colab_type": "code",
        "colab": {}
      },
      "source": [
        "new=train.groupby('lga')['status_group'].agg({'status_group_per_lga':'mean'})\n",
        "all_data = pd.merge(all_data,new,how='left',left_on='lga',right_on='lga')\n",
        "\n",
        "#new=train.groupby('ward')['status_group'].agg({'status_group_per_ward':'mean'})\n",
        "#all_data = pd.merge(all_data,new,how='left',left_on='ward',right_on='ward')\n",
        "\n",
        "new=train.groupby('construction_year')['status_group'].agg({'status_group_per_construction_year':'mean'})\n",
        "all_data = pd.merge(all_data,new,how='left',left_on='construction_year',right_on='construction_year')\n",
        "\n"
      ],
      "execution_count": null,
      "outputs": []
    },
    {
      "cell_type": "code",
      "metadata": {
        "id": "OmWc_MSTrN5V",
        "colab_type": "code",
        "colab": {}
      },
      "source": [
        "all_data=all_data.drop(to_drop,axis=1)"
      ],
      "execution_count": null,
      "outputs": []
    },
    {
      "cell_type": "code",
      "metadata": {
        "id": "RtQh6B_7pZin",
        "colab_type": "code",
        "colab": {}
      },
      "source": [
        "train= all_data[:len(Y)]\n",
        "test= all_data[len(Y):]"
      ],
      "execution_count": null,
      "outputs": []
    },
    {
      "cell_type": "code",
      "metadata": {
        "id": "H0d5z_2OrySQ",
        "colab_type": "code",
        "colab": {}
      },
      "source": [
        "test=test.drop(\"status_group\",axis=1)\n",
        "train=train.drop(\"status_group\",axis=1)"
      ],
      "execution_count": null,
      "outputs": []
    },
    {
      "cell_type": "code",
      "metadata": {
        "id": "JnmPboG7ryU3",
        "colab_type": "code",
        "colab": {
          "base_uri": "https://localhost:8080/",
          "height": 36
        },
        "outputId": "6300511c-b5e8-456c-a4dd-ed440b7f24e8"
      },
      "source": [
        "train.shape"
      ],
      "execution_count": null,
      "outputs": [
        {
          "output_type": "execute_result",
          "data": {
            "text/plain": [
              "(50490, 26)"
            ]
          },
          "metadata": {
            "tags": []
          },
          "execution_count": 160
        }
      ]
    },
    {
      "cell_type": "code",
      "metadata": {
        "id": "HdMGe5UGpZw7",
        "colab_type": "code",
        "colab": {}
      },
      "source": [
        "train=pd.get_dummies(train)"
      ],
      "execution_count": null,
      "outputs": []
    },
    {
      "cell_type": "code",
      "metadata": {
        "id": "aJTsCEMmAV0c",
        "colab_type": "code",
        "colab": {}
      },
      "source": [
        "train=train.drop(\"lga_Nyamagana\",axis=1)"
      ],
      "execution_count": null,
      "outputs": []
    },
    {
      "cell_type": "code",
      "metadata": {
        "id": "eh1fRm_6pZy1",
        "colab_type": "code",
        "colab": {}
      },
      "source": [
        "train_X, val_X, train_y, val_y = train_test_split(train,Y , test_size=0.20, random_state=4)"
      ],
      "execution_count": null,
      "outputs": []
    },
    {
      "cell_type": "markdown",
      "metadata": {
        "id": "Rc3ZY49ipajT",
        "colab_type": "text"
      },
      "source": [
        "# Modelling"
      ]
    },
    {
      "cell_type": "code",
      "metadata": {
        "id": "eRuYQRCPpZk8",
        "colab_type": "code",
        "colab": {
          "base_uri": "https://localhost:8080/",
          "height": 147
        },
        "outputId": "1d116059-14f0-4e1e-b8ec-4f5466227ffd"
      },
      "source": [
        "import lightgbm as lgb\n",
        "lgb_model = lgb.LGBMClassifier(colsample_bytree=0.4,\n",
        "                 learning_rate=0.1,\n",
        "                 max_depth=12,\n",
        "                 min_child_weight=1.5,\n",
        "                 n_estimators=500,                                                                   \n",
        "                 subsample=0.6,\n",
        "                 seed=42)\n",
        "lgb_model.fit(train_X,train_y)\n",
        "val_pred_lgb = lgb_model.predict_proba(val_X)\n",
        "print(val_pred_lgb)"
      ],
      "execution_count": null,
      "outputs": [
        {
          "output_type": "stream",
          "text": [
            "[[3.44690562e-01 2.23239455e-02 6.32985493e-01]\n",
            " [4.15544993e-03 2.36587253e-04 9.95607963e-01]\n",
            " [9.89603926e-01 4.58047358e-03 5.81560089e-03]\n",
            " ...\n",
            " [3.49918177e-01 5.12550712e-01 1.37531111e-01]\n",
            " [9.25183370e-01 3.36500820e-03 7.14516221e-02]\n",
            " [1.89218930e-01 9.16148291e-03 8.01619587e-01]]\n"
          ],
          "name": "stdout"
        }
      ]
    },
    {
      "cell_type": "code",
      "metadata": {
        "id": "vdG594MWCDK2",
        "colab_type": "code",
        "colab": {
          "base_uri": "https://localhost:8080/",
          "height": 147
        },
        "outputId": "4692afad-be1d-41db-ca2d-ecfb52f10ad9"
      },
      "source": [
        "from sklearn.linear_model import LogisticRegression\n",
        "clf = LogisticRegression(random_state=0).fit(train_X, train_y)\n",
        "clf.predict_proba(val_X)"
      ],
      "execution_count": null,
      "outputs": [
        {
          "output_type": "execute_result",
          "data": {
            "text/plain": [
              "array([[0.47750295, 0.05705773, 0.46543932],\n",
              "       [0.53076644, 0.03620637, 0.43302719],\n",
              "       [0.64496383, 0.07089659, 0.28413958],\n",
              "       ...,\n",
              "       [0.4862557 , 0.05801361, 0.45573069],\n",
              "       [0.66507748, 0.07223621, 0.2626863 ],\n",
              "       [0.55311833, 0.08154754, 0.36533414]])"
            ]
          },
          "metadata": {
            "tags": []
          },
          "execution_count": 164
        }
      ]
    },
    {
      "cell_type": "code",
      "metadata": {
        "id": "frsFjDTC30e_",
        "colab_type": "code",
        "colab": {}
      },
      "source": [
        "\n",
        "import numpy as np\n",
        "from keras.models import Sequential\n",
        "from keras.layers import Dense, Dropout, Activation, Flatten\n",
        "from keras.layers import Convolution2D, MaxPooling2D\n",
        "from keras.optimizers import Adam\n",
        "from keras.utils import np_utils\n",
        "from sklearn import metrics \n"
      ],
      "execution_count": null,
      "outputs": []
    },
    {
      "cell_type": "code",
      "metadata": {
        "id": "FAznC-13pcel",
        "colab_type": "code",
        "colab": {}
      },
      "source": [
        "num_labels = 3\n",
        "filter_size = 2\n",
        "\n",
        "# build model\n",
        "model = Sequential()\n",
        "\n",
        "model.add(Dense(256, input_shape=(267,)))\n",
        "model.add(Activation('relu'))\n",
        "#model.add(Dropout(0.1))\n",
        "\n",
        "model.add(Dense(256))\n",
        "model.add(Activation('relu'))\n",
        "model.add(Dropout(0.1))\n",
        "model.add(Dense(256))\n",
        "model.add(Activation('relu'))\n",
        "model.add(Dense(256))\n",
        "model.add(Activation('relu'))\n",
        "model.add(Dense(256))\n",
        "model.add(Activation('relu'))\n",
        "model.add(Dropout(0.1))\n",
        "model.add(Dense(256))\n",
        "model.add(Activation('relu'))\n",
        "model.add(Dense(256))\n",
        "model.add(Activation('relu'))\n",
        "model.add(Dropout(0.1))\n",
        "\n",
        "model.add(Dense(num_labels))\n",
        "model.add(Activation('softmax'))\n",
        "\n",
        "model.compile(loss='categorical_crossentropy', metrics=['accuracy'], optimizer='adam')"
      ],
      "execution_count": null,
      "outputs": []
    },
    {
      "cell_type": "code",
      "metadata": {
        "id": "guNn3fhxpcgc",
        "colab_type": "code",
        "colab": {
          "base_uri": "https://localhost:8080/",
          "height": 36
        },
        "outputId": "10b486f1-5fc0-4b68-f571-dd62f5a50511"
      },
      "source": [
        "from sklearn.preprocessing import LabelEncoder\n",
        "from keras.utils import np_utils\n",
        "lb1 = LabelEncoder()\n",
        "train_y1 = np_utils.to_categorical(lb1.fit_transform(train_y))\n",
        "\n",
        "lb2 = LabelEncoder()\n",
        "val_y1 = np_utils.to_categorical(lb2.fit_transform(val_y))\n",
        "print(val_X.shape,val_y.shape)"
      ],
      "execution_count": null,
      "outputs": [
        {
          "output_type": "stream",
          "text": [
            "(10098, 267) (10098,)\n"
          ],
          "name": "stdout"
        }
      ]
    },
    {
      "cell_type": "code",
      "metadata": {
        "id": "OBLYTIaHpciP",
        "colab_type": "code",
        "colab": {
          "base_uri": "https://localhost:8080/",
          "height": 799
        },
        "outputId": "06942645-e6a6-46c1-ad4a-ce0f2a873473"
      },
      "source": [
        "model.fit(train_X, train_y1, batch_size=200, epochs=20, validation_data=(val_X, val_y1))"
      ],
      "execution_count": null,
      "outputs": [
        {
          "output_type": "stream",
          "text": [
            "Train on 40392 samples, validate on 10098 samples\n",
            "Epoch 1/20\n",
            "40392/40392 [==============================] - 2s 57us/step - loss: 1.0371 - acc: 0.5551 - val_loss: 0.8031 - val_acc: 0.6424\n",
            "Epoch 2/20\n",
            "40392/40392 [==============================] - 1s 32us/step - loss: 0.7821 - acc: 0.6507 - val_loss: 0.7745 - val_acc: 0.6528\n",
            "Epoch 3/20\n",
            "40392/40392 [==============================] - 1s 32us/step - loss: 0.7447 - acc: 0.6679 - val_loss: 0.7279 - val_acc: 0.6877\n",
            "Epoch 4/20\n",
            "40392/40392 [==============================] - 1s 33us/step - loss: 0.7246 - acc: 0.6848 - val_loss: 0.7286 - val_acc: 0.6766\n",
            "Epoch 5/20\n",
            "40392/40392 [==============================] - 1s 33us/step - loss: 0.6977 - acc: 0.7030 - val_loss: 0.6875 - val_acc: 0.7180\n",
            "Epoch 6/20\n",
            "40392/40392 [==============================] - 1s 33us/step - loss: 0.6763 - acc: 0.7175 - val_loss: 0.6969 - val_acc: 0.7018\n",
            "Epoch 7/20\n",
            "40392/40392 [==============================] - 1s 34us/step - loss: 0.6623 - acc: 0.7259 - val_loss: 0.6882 - val_acc: 0.7126\n",
            "Epoch 8/20\n",
            "40392/40392 [==============================] - 1s 33us/step - loss: 0.6412 - acc: 0.7394 - val_loss: 0.6593 - val_acc: 0.7397\n",
            "Epoch 9/20\n",
            "40392/40392 [==============================] - 1s 33us/step - loss: 0.6384 - acc: 0.7391 - val_loss: 0.6486 - val_acc: 0.7481\n",
            "Epoch 10/20\n",
            "40392/40392 [==============================] - 1s 33us/step - loss: 0.6250 - acc: 0.7472 - val_loss: 0.6564 - val_acc: 0.7292\n",
            "Epoch 11/20\n",
            "40392/40392 [==============================] - 1s 33us/step - loss: 0.6155 - acc: 0.7516 - val_loss: 0.6348 - val_acc: 0.7454\n",
            "Epoch 12/20\n",
            "40392/40392 [==============================] - 1s 34us/step - loss: 0.6117 - acc: 0.7536 - val_loss: 0.6339 - val_acc: 0.7396\n",
            "Epoch 13/20\n",
            "40392/40392 [==============================] - 1s 32us/step - loss: 0.6053 - acc: 0.7553 - val_loss: 0.6212 - val_acc: 0.7493\n",
            "Epoch 14/20\n",
            "40392/40392 [==============================] - 1s 33us/step - loss: 0.5949 - acc: 0.7619 - val_loss: 0.6419 - val_acc: 0.7391\n",
            "Epoch 15/20\n",
            "40392/40392 [==============================] - 1s 33us/step - loss: 0.5906 - acc: 0.7618 - val_loss: 0.6433 - val_acc: 0.7360\n",
            "Epoch 16/20\n",
            "40392/40392 [==============================] - 1s 32us/step - loss: 0.5836 - acc: 0.7652 - val_loss: 0.5996 - val_acc: 0.7552\n",
            "Epoch 17/20\n",
            "40392/40392 [==============================] - 1s 33us/step - loss: 0.5835 - acc: 0.7658 - val_loss: 0.6006 - val_acc: 0.7610\n",
            "Epoch 18/20\n",
            "40392/40392 [==============================] - 1s 33us/step - loss: 0.5773 - acc: 0.7690 - val_loss: 0.6136 - val_acc: 0.7507\n",
            "Epoch 19/20\n",
            "40392/40392 [==============================] - 1s 32us/step - loss: 0.5704 - acc: 0.7713 - val_loss: 0.6334 - val_acc: 0.7423\n",
            "Epoch 20/20\n",
            "40392/40392 [==============================] - 1s 33us/step - loss: 0.5720 - acc: 0.7701 - val_loss: 0.5926 - val_acc: 0.7668\n"
          ],
          "name": "stdout"
        },
        {
          "output_type": "execute_result",
          "data": {
            "text/plain": [
              "<keras.callbacks.History at 0x7fec9864bfd0>"
            ]
          },
          "metadata": {
            "tags": []
          },
          "execution_count": 112
        }
      ]
    },
    {
      "cell_type": "markdown",
      "metadata": {
        "id": "p9LvhWAHpcwJ",
        "colab_type": "text"
      },
      "source": [
        "# Testing"
      ]
    },
    {
      "cell_type": "code",
      "metadata": {
        "id": "rx7z9WYopdyo",
        "colab_type": "code",
        "colab": {}
      },
      "source": [
        "test=pd.get_dummies(test)"
      ],
      "execution_count": null,
      "outputs": []
    },
    {
      "cell_type": "code",
      "metadata": {
        "id": "rPbrdzEpywQv",
        "colab_type": "code",
        "colab": {
          "base_uri": "https://localhost:8080/",
          "height": 36
        },
        "outputId": "dde4b6f5-247a-43a1-b408-38068bf51f44"
      },
      "source": [
        "test.shape"
      ],
      "execution_count": null,
      "outputs": [
        {
          "output_type": "execute_result",
          "data": {
            "text/plain": [
              "(8910, 266)"
            ]
          },
          "metadata": {
            "tags": []
          },
          "execution_count": 166
        }
      ]
    },
    {
      "cell_type": "code",
      "metadata": {
        "id": "Ymo82JxDz-TY",
        "colab_type": "code",
        "colab": {}
      },
      "source": [
        "test_preds_nn=model.predict(test)\n"
      ],
      "execution_count": null,
      "outputs": []
    },
    {
      "cell_type": "code",
      "metadata": {
        "id": "MBVYJemQ4LIR",
        "colab_type": "code",
        "colab": {
          "base_uri": "https://localhost:8080/",
          "height": 147
        },
        "outputId": "b51f2978-00d8-40e9-b495-94990db54385"
      },
      "source": [
        "test_preds_nn"
      ],
      "execution_count": null,
      "outputs": [
        {
          "output_type": "execute_result",
          "data": {
            "text/plain": [
              "array([[9.9621528e-01, 2.9929653e-03, 7.9170836e-04],\n",
              "       [8.2197392e-01, 3.2078225e-02, 1.4594793e-01],\n",
              "       [7.9152614e-01, 6.0615949e-02, 1.4785793e-01],\n",
              "       ...,\n",
              "       [9.2097050e-01, 1.8131154e-02, 6.0898270e-02],\n",
              "       [6.9492133e-03, 1.8080332e-03, 9.9124277e-01],\n",
              "       [4.5281794e-02, 7.8271609e-03, 9.4689101e-01]], dtype=float32)"
            ]
          },
          "metadata": {
            "tags": []
          },
          "execution_count": 117
        }
      ]
    },
    {
      "cell_type": "code",
      "metadata": {
        "id": "2kCF3MXn4erB",
        "colab_type": "code",
        "colab": {}
      },
      "source": [
        "l=[]\n",
        "test_list=test_preds_nn.tolist()\n",
        "for i in range(len(test_list)):\n",
        "  k=test_list[i].index(max(test_list[i]))\n",
        "  l.append(k+1)\n",
        "test_preds_nn=l\n",
        "\n",
        "output = pd.DataFrame({'id': ids, 'damage_grade': (test_preds_nn)})\n",
        "output.to_csv('/content/drive/My Drive/DATACEPT COMP7/sub_nn.csv', index=False)"
      ],
      "execution_count": null,
      "outputs": []
    },
    {
      "cell_type": "code",
      "metadata": {
        "id": "xkQhvqAo4QiO",
        "colab_type": "code",
        "colab": {}
      },
      "source": [
        ""
      ],
      "execution_count": null,
      "outputs": []
    },
    {
      "cell_type": "code",
      "metadata": {
        "id": "1Gs5TUtH5Dj7",
        "colab_type": "code",
        "colab": {}
      },
      "source": [
        "test_preds_lr=clf.predict_proba(test)\n",
        "\n",
        "l=[]\n",
        "test_list=test_preds_lr.tolist()\n",
        "for i in range(len(test_list)):\n",
        "  k=test_list[i].index(max(test_list[i]))\n",
        "  l.append(k+1)\n",
        "test_preds_lr=l\n",
        "\n",
        "output = pd.DataFrame({'id': ids, 'damage_grade': (test_preds_lr)})\n",
        "output.to_csv('/content/drive/My Drive/DATACEPT COMP7/sub_lr.csv', index=False)"
      ],
      "execution_count": null,
      "outputs": []
    },
    {
      "cell_type": "code",
      "metadata": {
        "id": "JpDPZnfb5i-q",
        "colab_type": "code",
        "colab": {}
      },
      "source": [
        "test_preds_lgb=lgb_model.predict_proba(test)\n",
        "\n",
        "l=[]\n",
        "test_list=test_preds_lgb.tolist()\n",
        "for i in range(len(test_list)):\n",
        "  k=test_list[i].index(max(test_list[i]))\n",
        "  l.append(k+1)\n",
        "test_preds_lgb=l\n",
        "\n",
        "output = pd.DataFrame({'id': ids, 'damage_grade': (test_preds_lgb)})\n",
        "output.to_csv('/content/drive/My Drive/DATACEPT COMP7/sub_lgb.csv', index=False)"
      ],
      "execution_count": null,
      "outputs": []
    }
  ]
}