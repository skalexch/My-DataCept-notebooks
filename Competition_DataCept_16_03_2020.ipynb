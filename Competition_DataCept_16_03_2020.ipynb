{
  "nbformat": 4,
  "nbformat_minor": 0,
  "metadata": {
    "colab": {
      "name": "Competition Datacept 16/03/2020.ipynb",
      "provenance": [],
      "collapsed_sections": []
    },
    "kernelspec": {
      "name": "python3",
      "display_name": "Python 3"
    },
    "accelerator": "GPU"
  },
  "cells": [
    {
      "cell_type": "code",
      "metadata": {
        "id": "aFxnHzAl-_rw",
        "colab_type": "code",
        "colab": {}
      },
      "source": [
        "import pandas as pd\n",
        "import numpy as np\n",
        "import matplotlib.pyplot as plt\n",
        "from sklearn.model_selection import train_test_split\n",
        "from sklearn.linear_model import LinearRegression\n",
        "from scipy import stats\n",
        "from scipy.stats import norm, skew #for some statistics\n",
        "from sklearn.ensemble import RandomForestRegressor,  GradientBoostingRegressor\n",
        "from sklearn.preprocessing import StandardScaler\n",
        "from sklearn.model_selection import KFold, cross_val_score, train_test_split\n",
        "from sklearn.metrics import mean_squared_error, mean_absolute_error, roc_auc_score \n",
        "import seaborn as sns  #advanced visualization library\n",
        "import requests, zipfile, io\n",
        "import warnings\n",
        "warnings.filterwarnings('ignore')"
      ],
      "execution_count": null,
      "outputs": []
    },
    {
      "cell_type": "code",
      "metadata": {
        "id": "alNS1V4I_WwM",
        "colab_type": "code",
        "colab": {}
      },
      "source": [
        "train = pd.read_csv('/content/drive/My Drive/DATACEPT COMP6/train.csv')\n",
        "test = pd.read_csv('/content/drive/My Drive/DATACEPT COMP6/test.csv')\n",
        "sample_submission = pd.read_csv('/content/drive/My Drive/DATACEPT COMP6/Sample_sub.csv')"
      ],
      "execution_count": null,
      "outputs": []
    },
    {
      "cell_type": "code",
      "metadata": {
        "id": "dDD0NsRQAXkN",
        "colab_type": "code",
        "colab": {
          "base_uri": "https://localhost:8080/",
          "height": 780
        },
        "outputId": "dd733e80-ef36-4d39-d597-297d077c1bab"
      },
      "source": [
        "missing_percentage=(train.isna().sum()/len(train)).sort_values(ascending=False)\n",
        "missing_percentage"
      ],
      "execution_count": null,
      "outputs": [
        {
          "output_type": "execute_result",
          "data": {
            "text/plain": [
              "damage_grade                              0.0\n",
              "has_secondary_use_other                   0.0\n",
              "has_superstructure_stone_flag             0.0\n",
              "has_superstructure_mud_mortar_stone       0.0\n",
              "has_superstructure_adobe_mud              0.0\n",
              "plan_configuration                        0.0\n",
              "position                                  0.0\n",
              "other_floor_type                          0.0\n",
              "ground_floor_type                         0.0\n",
              "roof_type                                 0.0\n",
              "foundation_type                           0.0\n",
              "land_surface_condition                    0.0\n",
              "height_percentage                         0.0\n",
              "area_percentage                           0.0\n",
              "age                                       0.0\n",
              "count_floors_pre_eq                       0.0\n",
              "geo_level_3_id                            0.0\n",
              "geo_level_2_id                            0.0\n",
              "geo_level_1_id                            0.0\n",
              "has_superstructure_cement_mortar_stone    0.0\n",
              "has_superstructure_mud_mortar_brick       0.0\n",
              "has_superstructure_cement_mortar_brick    0.0\n",
              "has_secondary_use_hotel                   0.0\n",
              "has_secondary_use_use_police              0.0\n",
              "has_secondary_use_gov_office              0.0\n",
              "has_secondary_use_health_post             0.0\n",
              "has_secondary_use_industry                0.0\n",
              "has_secondary_use_school                  0.0\n",
              "has_secondary_use_institution             0.0\n",
              "has_secondary_use_rental                  0.0\n",
              "has_secondary_use_agriculture             0.0\n",
              "has_superstructure_timber                 0.0\n",
              "has_secondary_use                         0.0\n",
              "count_families                            0.0\n",
              "legal_ownership_status                    0.0\n",
              "has_superstructure_other                  0.0\n",
              "has_superstructure_rc_engineered          0.0\n",
              "has_superstructure_rc_non_engineered      0.0\n",
              "has_superstructure_bamboo                 0.0\n",
              "building_id                               0.0\n",
              "dtype: float64"
            ]
          },
          "metadata": {
            "tags": []
          },
          "execution_count": 102
        }
      ]
    },
    {
      "cell_type": "code",
      "metadata": {
        "id": "YfOiEVd0A1fw",
        "colab_type": "code",
        "colab": {}
      },
      "source": [
        "Y=train.damage_grade\n",
        "ids=test.building_id"
      ],
      "execution_count": null,
      "outputs": []
    },
    {
      "cell_type": "code",
      "metadata": {
        "id": "jZ6jKBAI_bVr",
        "colab_type": "code",
        "colab": {
          "base_uri": "https://localhost:8080/",
          "height": 226
        },
        "outputId": "54905ed7-62bb-4d04-b538-c3aa3cd48512"
      },
      "source": [
        "train.head()"
      ],
      "execution_count": null,
      "outputs": [
        {
          "output_type": "execute_result",
          "data": {
            "text/html": [
              "<div>\n",
              "<style scoped>\n",
              "    .dataframe tbody tr th:only-of-type {\n",
              "        vertical-align: middle;\n",
              "    }\n",
              "\n",
              "    .dataframe tbody tr th {\n",
              "        vertical-align: top;\n",
              "    }\n",
              "\n",
              "    .dataframe thead th {\n",
              "        text-align: right;\n",
              "    }\n",
              "</style>\n",
              "<table border=\"1\" class=\"dataframe\">\n",
              "  <thead>\n",
              "    <tr style=\"text-align: right;\">\n",
              "      <th></th>\n",
              "      <th>building_id</th>\n",
              "      <th>geo_level_1_id</th>\n",
              "      <th>geo_level_2_id</th>\n",
              "      <th>geo_level_3_id</th>\n",
              "      <th>count_floors_pre_eq</th>\n",
              "      <th>age</th>\n",
              "      <th>area_percentage</th>\n",
              "      <th>height_percentage</th>\n",
              "      <th>land_surface_condition</th>\n",
              "      <th>foundation_type</th>\n",
              "      <th>roof_type</th>\n",
              "      <th>ground_floor_type</th>\n",
              "      <th>other_floor_type</th>\n",
              "      <th>position</th>\n",
              "      <th>plan_configuration</th>\n",
              "      <th>has_superstructure_adobe_mud</th>\n",
              "      <th>has_superstructure_mud_mortar_stone</th>\n",
              "      <th>has_superstructure_stone_flag</th>\n",
              "      <th>has_superstructure_cement_mortar_stone</th>\n",
              "      <th>has_superstructure_mud_mortar_brick</th>\n",
              "      <th>has_superstructure_cement_mortar_brick</th>\n",
              "      <th>has_superstructure_timber</th>\n",
              "      <th>has_superstructure_bamboo</th>\n",
              "      <th>has_superstructure_rc_non_engineered</th>\n",
              "      <th>has_superstructure_rc_engineered</th>\n",
              "      <th>has_superstructure_other</th>\n",
              "      <th>legal_ownership_status</th>\n",
              "      <th>count_families</th>\n",
              "      <th>has_secondary_use</th>\n",
              "      <th>has_secondary_use_agriculture</th>\n",
              "      <th>has_secondary_use_hotel</th>\n",
              "      <th>has_secondary_use_rental</th>\n",
              "      <th>has_secondary_use_institution</th>\n",
              "      <th>has_secondary_use_school</th>\n",
              "      <th>has_secondary_use_industry</th>\n",
              "      <th>has_secondary_use_health_post</th>\n",
              "      <th>has_secondary_use_gov_office</th>\n",
              "      <th>has_secondary_use_use_police</th>\n",
              "      <th>has_secondary_use_other</th>\n",
              "      <th>damage_grade</th>\n",
              "    </tr>\n",
              "  </thead>\n",
              "  <tbody>\n",
              "    <tr>\n",
              "      <th>0</th>\n",
              "      <td>914510</td>\n",
              "      <td>21</td>\n",
              "      <td>363</td>\n",
              "      <td>4982</td>\n",
              "      <td>3</td>\n",
              "      <td>30</td>\n",
              "      <td>6</td>\n",
              "      <td>7</td>\n",
              "      <td>t</td>\n",
              "      <td>r</td>\n",
              "      <td>q</td>\n",
              "      <td>f</td>\n",
              "      <td>q</td>\n",
              "      <td>s</td>\n",
              "      <td>d</td>\n",
              "      <td>0</td>\n",
              "      <td>1</td>\n",
              "      <td>0</td>\n",
              "      <td>0</td>\n",
              "      <td>0</td>\n",
              "      <td>0</td>\n",
              "      <td>1</td>\n",
              "      <td>0</td>\n",
              "      <td>0</td>\n",
              "      <td>0</td>\n",
              "      <td>0</td>\n",
              "      <td>v</td>\n",
              "      <td>1</td>\n",
              "      <td>0</td>\n",
              "      <td>0</td>\n",
              "      <td>0</td>\n",
              "      <td>0</td>\n",
              "      <td>0</td>\n",
              "      <td>0</td>\n",
              "      <td>0</td>\n",
              "      <td>0</td>\n",
              "      <td>0</td>\n",
              "      <td>0</td>\n",
              "      <td>0</td>\n",
              "      <td>3</td>\n",
              "    </tr>\n",
              "    <tr>\n",
              "      <th>1</th>\n",
              "      <td>199801</td>\n",
              "      <td>15</td>\n",
              "      <td>535</td>\n",
              "      <td>9295</td>\n",
              "      <td>2</td>\n",
              "      <td>55</td>\n",
              "      <td>6</td>\n",
              "      <td>4</td>\n",
              "      <td>t</td>\n",
              "      <td>r</td>\n",
              "      <td>n</td>\n",
              "      <td>f</td>\n",
              "      <td>q</td>\n",
              "      <td>s</td>\n",
              "      <td>d</td>\n",
              "      <td>0</td>\n",
              "      <td>1</td>\n",
              "      <td>0</td>\n",
              "      <td>0</td>\n",
              "      <td>0</td>\n",
              "      <td>0</td>\n",
              "      <td>0</td>\n",
              "      <td>0</td>\n",
              "      <td>0</td>\n",
              "      <td>0</td>\n",
              "      <td>0</td>\n",
              "      <td>v</td>\n",
              "      <td>1</td>\n",
              "      <td>0</td>\n",
              "      <td>0</td>\n",
              "      <td>0</td>\n",
              "      <td>0</td>\n",
              "      <td>0</td>\n",
              "      <td>0</td>\n",
              "      <td>0</td>\n",
              "      <td>0</td>\n",
              "      <td>0</td>\n",
              "      <td>0</td>\n",
              "      <td>0</td>\n",
              "      <td>2</td>\n",
              "    </tr>\n",
              "    <tr>\n",
              "      <th>2</th>\n",
              "      <td>538523</td>\n",
              "      <td>17</td>\n",
              "      <td>1119</td>\n",
              "      <td>12390</td>\n",
              "      <td>3</td>\n",
              "      <td>5</td>\n",
              "      <td>6</td>\n",
              "      <td>7</td>\n",
              "      <td>t</td>\n",
              "      <td>r</td>\n",
              "      <td>q</td>\n",
              "      <td>f</td>\n",
              "      <td>q</td>\n",
              "      <td>t</td>\n",
              "      <td>d</td>\n",
              "      <td>0</td>\n",
              "      <td>1</td>\n",
              "      <td>0</td>\n",
              "      <td>0</td>\n",
              "      <td>0</td>\n",
              "      <td>0</td>\n",
              "      <td>0</td>\n",
              "      <td>0</td>\n",
              "      <td>0</td>\n",
              "      <td>0</td>\n",
              "      <td>0</td>\n",
              "      <td>v</td>\n",
              "      <td>1</td>\n",
              "      <td>0</td>\n",
              "      <td>0</td>\n",
              "      <td>0</td>\n",
              "      <td>0</td>\n",
              "      <td>0</td>\n",
              "      <td>0</td>\n",
              "      <td>0</td>\n",
              "      <td>0</td>\n",
              "      <td>0</td>\n",
              "      <td>0</td>\n",
              "      <td>0</td>\n",
              "      <td>3</td>\n",
              "    </tr>\n",
              "    <tr>\n",
              "      <th>3</th>\n",
              "      <td>48420</td>\n",
              "      <td>7</td>\n",
              "      <td>1040</td>\n",
              "      <td>363</td>\n",
              "      <td>3</td>\n",
              "      <td>30</td>\n",
              "      <td>10</td>\n",
              "      <td>7</td>\n",
              "      <td>t</td>\n",
              "      <td>r</td>\n",
              "      <td>n</td>\n",
              "      <td>f</td>\n",
              "      <td>q</td>\n",
              "      <td>t</td>\n",
              "      <td>s</td>\n",
              "      <td>0</td>\n",
              "      <td>1</td>\n",
              "      <td>0</td>\n",
              "      <td>0</td>\n",
              "      <td>0</td>\n",
              "      <td>1</td>\n",
              "      <td>0</td>\n",
              "      <td>0</td>\n",
              "      <td>0</td>\n",
              "      <td>0</td>\n",
              "      <td>0</td>\n",
              "      <td>v</td>\n",
              "      <td>1</td>\n",
              "      <td>1</td>\n",
              "      <td>0</td>\n",
              "      <td>1</td>\n",
              "      <td>0</td>\n",
              "      <td>0</td>\n",
              "      <td>0</td>\n",
              "      <td>0</td>\n",
              "      <td>0</td>\n",
              "      <td>0</td>\n",
              "      <td>0</td>\n",
              "      <td>0</td>\n",
              "      <td>2</td>\n",
              "    </tr>\n",
              "    <tr>\n",
              "      <th>4</th>\n",
              "      <td>709794</td>\n",
              "      <td>27</td>\n",
              "      <td>181</td>\n",
              "      <td>4652</td>\n",
              "      <td>4</td>\n",
              "      <td>65</td>\n",
              "      <td>31</td>\n",
              "      <td>12</td>\n",
              "      <td>t</td>\n",
              "      <td>i</td>\n",
              "      <td>x</td>\n",
              "      <td>v</td>\n",
              "      <td>s</td>\n",
              "      <td>t</td>\n",
              "      <td>d</td>\n",
              "      <td>0</td>\n",
              "      <td>0</td>\n",
              "      <td>0</td>\n",
              "      <td>0</td>\n",
              "      <td>1</td>\n",
              "      <td>0</td>\n",
              "      <td>0</td>\n",
              "      <td>0</td>\n",
              "      <td>0</td>\n",
              "      <td>0</td>\n",
              "      <td>0</td>\n",
              "      <td>v</td>\n",
              "      <td>1</td>\n",
              "      <td>0</td>\n",
              "      <td>0</td>\n",
              "      <td>0</td>\n",
              "      <td>0</td>\n",
              "      <td>0</td>\n",
              "      <td>0</td>\n",
              "      <td>0</td>\n",
              "      <td>0</td>\n",
              "      <td>0</td>\n",
              "      <td>0</td>\n",
              "      <td>0</td>\n",
              "      <td>3</td>\n",
              "    </tr>\n",
              "  </tbody>\n",
              "</table>\n",
              "</div>"
            ],
            "text/plain": [
              "   building_id  geo_level_1_id  ...  has_secondary_use_other  damage_grade\n",
              "0       914510              21  ...                        0             3\n",
              "1       199801              15  ...                        0             2\n",
              "2       538523              17  ...                        0             3\n",
              "3        48420               7  ...                        0             2\n",
              "4       709794              27  ...                        0             3\n",
              "\n",
              "[5 rows x 40 columns]"
            ]
          },
          "metadata": {
            "tags": []
          },
          "execution_count": 104
        }
      ]
    },
    {
      "cell_type": "code",
      "metadata": {
        "id": "HUcV1qLlA-Ic",
        "colab_type": "code",
        "colab": {}
      },
      "source": [
        "train=train.drop([\"building_id\",\"damage_grade\"],axis=1)"
      ],
      "execution_count": null,
      "outputs": []
    },
    {
      "cell_type": "code",
      "metadata": {
        "id": "DJdwKHDlAo4E",
        "colab_type": "code",
        "colab": {}
      },
      "source": [
        "train=pd.get_dummies(train)"
      ],
      "execution_count": null,
      "outputs": []
    },
    {
      "cell_type": "markdown",
      "metadata": {
        "id": "zEZTGFqzVTy8",
        "colab_type": "text"
      },
      "source": [
        "# Modelling"
      ]
    },
    {
      "cell_type": "code",
      "metadata": {
        "id": "Aw51lKNQVSsq",
        "colab_type": "code",
        "colab": {}
      },
      "source": [
        "train_X, val_X, train_y, val_y = train_test_split(train,Y , test_size=0.20, random_state=4)"
      ],
      "execution_count": null,
      "outputs": []
    },
    {
      "cell_type": "code",
      "metadata": {
        "id": "ynxjORNWITLt",
        "colab_type": "code",
        "colab": {
          "base_uri": "https://localhost:8080/",
          "height": 147
        },
        "outputId": "8613493d-eecd-47f8-ab6a-071ccdc2c410"
      },
      "source": [
        "from sklearn.preprocessing import OneHotEncoder\n",
        "enc = OneHotEncoder(sparse=False)\n",
        "enc.fit(train_y.to_numpy().reshape(-1, 1))\n",
        "encoded_Y = enc.transform(train_y.to_numpy().reshape(-1, 1))\n",
        "encoded_Y"
      ],
      "execution_count": null,
      "outputs": [
        {
          "output_type": "execute_result",
          "data": {
            "text/plain": [
              "array([[0., 0., 1.],\n",
              "       [0., 0., 1.],\n",
              "       [0., 1., 0.],\n",
              "       ...,\n",
              "       [0., 1., 0.],\n",
              "       [0., 0., 1.],\n",
              "       [0., 1., 0.]])"
            ]
          },
          "metadata": {
            "tags": []
          },
          "execution_count": 108
        }
      ]
    },
    {
      "cell_type": "code",
      "metadata": {
        "id": "u3KbmLsVO6u2",
        "colab_type": "code",
        "colab": {}
      },
      "source": [
        "enc.fit(val_y.to_numpy().reshape(-1, 1))\n",
        "en_val_Y = enc.transform(val_y.to_numpy().reshape(-1, 1))\n"
      ],
      "execution_count": null,
      "outputs": []
    },
    {
      "cell_type": "code",
      "metadata": {
        "id": "Cy8luhRXPviG",
        "colab_type": "code",
        "colab": {}
      },
      "source": [
        "from keras.utils import to_categorical\n",
        "encoded_Y = to_categorical(train_y)\n",
        "en_val_Y = to_categorical(val_y)\n"
      ],
      "execution_count": null,
      "outputs": []
    },
    {
      "cell_type": "code",
      "metadata": {
        "id": "qn0h0LQ0Ztfz",
        "colab_type": "code",
        "colab": {}
      },
      "source": [
        "import keras\n",
        "from keras.models import Sequential\n",
        "from keras.layers import Dense, Dropout, Flatten, Conv2D, MaxPooling2D, LSTM, Activation, MaxPool2D, BatchNormalization"
      ],
      "execution_count": null,
      "outputs": []
    },
    {
      "cell_type": "code",
      "metadata": {
        "id": "GEEP4uLI0jIC",
        "colab_type": "code",
        "colab": {
          "base_uri": "https://localhost:8080/",
          "height": 36
        },
        "outputId": "2b75262c-8a50-404a-cc3d-c624eaee6bb8"
      },
      "source": [
        "train.shape"
      ],
      "execution_count": null,
      "outputs": [
        {
          "output_type": "execute_result",
          "data": {
            "text/plain": [
              "(221510, 68)"
            ]
          },
          "metadata": {
            "tags": []
          },
          "execution_count": 112
        }
      ]
    },
    {
      "cell_type": "code",
      "metadata": {
        "id": "4N4pnNHCBmAI",
        "colab_type": "code",
        "colab": {}
      },
      "source": [
        "model0=Sequential()\n",
        "model0.add(Dense(68, activation = \"relu\"))\n",
        "model0.add(Dense(512, activation = \"relu\"))\n",
        "model0.add(Dropout(0.2))\n",
        "model0.add(Dense(256, activation = \"relu\"))\n",
        "model0.add(Dense(128, activation = \"relu\"))\n",
        "model0.add(BatchNormalization(axis=-1, momentum=0.99, epsilon=0.001))\n",
        "model0.add(Dropout(0.2))\n",
        "model0.add(Dense(64, activation = \"relu\"))\n",
        "model0.add(Dense(4, activation=\"softmax\"))"
      ],
      "execution_count": null,
      "outputs": []
    },
    {
      "cell_type": "code",
      "metadata": {
        "id": "Ay9OCQ8TCM63",
        "colab_type": "code",
        "colab": {}
      },
      "source": [
        "from keras.optimizers import SGD\n",
        "opt = SGD(lr=0.01)\n",
        "model0.compile(loss = \"categorical_crossentropy\", optimizer = opt, metrics=['accuracy'])"
      ],
      "execution_count": null,
      "outputs": []
    },
    {
      "cell_type": "code",
      "metadata": {
        "id": "4fxG7N3O4UKG",
        "colab_type": "code",
        "colab": {}
      },
      "source": [
        "train_X2=train_X.drop([\"geo_level_1_id\",\"geo_level_2_id\",\"geo_level_3_id\"],axis=1)\n",
        "val_X2=val_X.drop([\"geo_level_1_id\",\"geo_level_2_id\",\"geo_level_3_id\"],axis=1)"
      ],
      "execution_count": null,
      "outputs": []
    },
    {
      "cell_type": "code",
      "metadata": {
        "id": "fs4gcbiCCjN5",
        "colab_type": "code",
        "colab": {}
      },
      "source": [
        "X = train_X.to_numpy()\n",
        "Y = train_y.to_numpy()\n",
        "X_val=val_X.to_numpy()\n",
        "Y_val=val_y.to_numpy()"
      ],
      "execution_count": null,
      "outputs": []
    },
    {
      "cell_type": "code",
      "metadata": {
        "id": "DDvrQf1lCO03",
        "colab_type": "code",
        "colab": {
          "base_uri": "https://localhost:8080/",
          "height": 948
        },
        "outputId": "71e2d24f-66b3-4816-ed87-d9b7b2081457"
      },
      "source": [
        "model0.fit(X, encoded_Y,validation_data=(X_val ,en_val_Y), batch_size=64, epochs=5), val_X, train_y, val_y"
      ],
      "execution_count": null,
      "outputs": [
        {
          "output_type": "stream",
          "text": [
            "Train on 177208 samples, validate on 44302 samples\n",
            "Epoch 1/5\n",
            "177208/177208 [==============================] - 17s 95us/step - loss: 0.9542 - acc: 0.5563 - val_loss: 0.9214 - val_acc: 0.5678\n",
            "Epoch 2/5\n",
            "177208/177208 [==============================] - 15s 87us/step - loss: 0.9210 - acc: 0.5678 - val_loss: 0.9188 - val_acc: 0.5678\n",
            "Epoch 3/5\n",
            "177208/177208 [==============================] - 16s 88us/step - loss: 0.9175 - acc: 0.5685 - val_loss: 0.9183 - val_acc: 0.5678\n",
            "Epoch 4/5\n",
            "177208/177208 [==============================] - 15s 87us/step - loss: 0.9164 - acc: 0.5687 - val_loss: 0.9163 - val_acc: 0.5678\n",
            "Epoch 5/5\n",
            "177208/177208 [==============================] - 15s 87us/step - loss: 0.9155 - acc: 0.5686 - val_loss: 0.9156 - val_acc: 0.5678\n"
          ],
          "name": "stdout"
        },
        {
          "output_type": "execute_result",
          "data": {
            "text/plain": [
              "(<keras.callbacks.History at 0x7f25ccbfb9e8>,\n",
              "         geo_level_1_id  ...  legal_ownership_status_w\n",
              " 202209              25  ...                         0\n",
              " 27133                6  ...                         0\n",
              " 67065               21  ...                         0\n",
              " 199299              21  ...                         0\n",
              " 182851              13  ...                         0\n",
              " ...                ...  ...                       ...\n",
              " 188967              17  ...                         0\n",
              " 89588                6  ...                         0\n",
              " 121329              21  ...                         0\n",
              " 41925               22  ...                         0\n",
              " 28993                7  ...                         0\n",
              " \n",
              " [44302 rows x 68 columns],\n",
              " 56434     3\n",
              " 42399     3\n",
              " 215625    2\n",
              " 138048    3\n",
              " 217530    3\n",
              "          ..\n",
              " 129384    2\n",
              " 120705    2\n",
              " 115397    2\n",
              " 204974    3\n",
              " 214138    2\n",
              " Name: damage_grade, Length: 177208, dtype: int64,\n",
              " 202209    2\n",
              " 27133     2\n",
              " 67065     2\n",
              " 199299    3\n",
              " 182851    2\n",
              "          ..\n",
              " 188967    3\n",
              " 89588     3\n",
              " 121329    2\n",
              " 41925     2\n",
              " 28993     3\n",
              " Name: damage_grade, Length: 44302, dtype: int64)"
            ]
          },
          "metadata": {
            "tags": []
          },
          "execution_count": 117
        }
      ]
    },
    {
      "cell_type": "code",
      "metadata": {
        "id": "3OrweUrhCLUm",
        "colab_type": "code",
        "colab": {
          "base_uri": "https://localhost:8080/",
          "height": 501
        },
        "outputId": "9f309711-66ba-4fd2-8890-7b51b944fb71"
      },
      "source": [
        "model0.summary()"
      ],
      "execution_count": null,
      "outputs": [
        {
          "output_type": "stream",
          "text": [
            "Model: \"sequential_13\"\n",
            "_________________________________________________________________\n",
            "Layer (type)                 Output Shape              Param #   \n",
            "=================================================================\n",
            "dense_60 (Dense)             (None, 68)                4692      \n",
            "_________________________________________________________________\n",
            "dense_61 (Dense)             (None, 512)               35328     \n",
            "_________________________________________________________________\n",
            "dropout_9 (Dropout)          (None, 512)               0         \n",
            "_________________________________________________________________\n",
            "dense_62 (Dense)             (None, 256)               131328    \n",
            "_________________________________________________________________\n",
            "dense_63 (Dense)             (None, 128)               32896     \n",
            "_________________________________________________________________\n",
            "batch_normalization_2 (Batch (None, 128)               512       \n",
            "_________________________________________________________________\n",
            "dropout_10 (Dropout)         (None, 128)               0         \n",
            "_________________________________________________________________\n",
            "dense_64 (Dense)             (None, 64)                8256      \n",
            "_________________________________________________________________\n",
            "dense_65 (Dense)             (None, 4)                 260       \n",
            "=================================================================\n",
            "Total params: 213,272\n",
            "Trainable params: 213,016\n",
            "Non-trainable params: 256\n",
            "_________________________________________________________________\n"
          ],
          "name": "stdout"
        }
      ]
    },
    {
      "cell_type": "code",
      "metadata": {
        "id": "F3a-vJyLFfsX",
        "colab_type": "code",
        "colab": {
          "base_uri": "https://localhost:8080/",
          "height": 36
        },
        "outputId": "bb138a8a-e8d7-4161-fa75-7fc41896853d"
      },
      "source": [
        "import lightgbm as lgb\n",
        "lgb_model = lgb.LGBMRegressor(colsample_bytree=0.4,\n",
        "                 learning_rate=0.1,\n",
        "                 max_depth=12,\n",
        "                 min_child_weight=1.5,\n",
        "                 n_estimators=500,                                                                   \n",
        "                 subsample=0.6,\n",
        "                 seed=42)\n",
        "lgb_model.fit(train_X,train_y)\n",
        "val_pred_lgb = lgb_model.predict(val_X)\n",
        "print(val_pred_lgb)"
      ],
      "execution_count": null,
      "outputs": [
        {
          "output_type": "stream",
          "text": [
            "[2.07381454 2.34306756 2.56690192 ... 2.2806177  1.90117638 2.44666394]\n"
          ],
          "name": "stdout"
        }
      ]
    },
    {
      "cell_type": "code",
      "metadata": {
        "id": "vmm3h4r69oW6",
        "colab_type": "code",
        "colab": {}
      },
      "source": [
        "from sklearn.model_selection import GridSearchCV\n",
        "from sklearn.model_selection import KFold\n",
        "\n",
        "gkf = KFold(n_splits=5, shuffle=True, random_state=42).split(X=train_X, y=train_y)\n",
        "param_grid = {\n",
        "    'reg_alpha': [0.1, 0.5],\n",
        "    'lambda_l1': [0, 1, 1.5],\n",
        "    'lambda_l2': [0, 1]\n",
        "    }\n",
        "gsearch = GridSearchCV(estimator=lgb_model, param_grid=param_grid, cv=2)\n",
        "lgb_model = gsearch.fit(X=train_X, y=train_y)\n",
        "\n"
      ],
      "execution_count": null,
      "outputs": []
    },
    {
      "cell_type": "code",
      "metadata": {
        "id": "GiUMmd5gFfvp",
        "colab_type": "code",
        "colab": {}
      },
      "source": [
        "import xgboost as xgb\n",
        "xgb_model =xgb.XGBClassifier(gamma=0, \n",
        "                             learning_rate=0.1, max_depth=8, \n",
        "                             n_estimators=500,\n",
        "                             tree_method='gpu_hist' )\n",
        "xgb_model=xgb_model.fit(train_X, train_y)\n",
        "val_pred_xgb = xgb_model.predict_proba(val_X)\n",
        "#val_mae_xgb = roc_auc_score(val_pred_xgb, val_y)\n",
        "#print(val_mae_xgb)\n"
      ],
      "execution_count": null,
      "outputs": []
    },
    {
      "cell_type": "code",
      "metadata": {
        "id": "kI7diKqzFfy1",
        "colab_type": "code",
        "colab": {
          "base_uri": "https://localhost:8080/",
          "height": 391
        },
        "outputId": "a6ae5853-d98c-47fa-8a2f-5016fa5c4871"
      },
      "source": [
        "pip install catboost"
      ],
      "execution_count": null,
      "outputs": [
        {
          "output_type": "stream",
          "text": [
            "Collecting catboost\n",
            "\u001b[?25l  Downloading https://files.pythonhosted.org/packages/94/ec/12b9a42b2ea7dfe5b602f235692ab2b61ee1334ff34334a15902272869e8/catboost-0.22-cp36-none-manylinux1_x86_64.whl (64.4MB)\n",
            "\u001b[K     |████████████████████████████████| 64.4MB 45kB/s \n",
            "\u001b[?25hRequirement already satisfied: six in /usr/local/lib/python3.6/dist-packages (from catboost) (1.12.0)\n",
            "Requirement already satisfied: numpy>=1.16.0 in /usr/local/lib/python3.6/dist-packages (from catboost) (1.18.1)\n",
            "Requirement already satisfied: matplotlib in /usr/local/lib/python3.6/dist-packages (from catboost) (3.2.0)\n",
            "Requirement already satisfied: pandas>=0.24.0 in /usr/local/lib/python3.6/dist-packages (from catboost) (0.25.3)\n",
            "Requirement already satisfied: graphviz in /usr/local/lib/python3.6/dist-packages (from catboost) (0.10.1)\n",
            "Requirement already satisfied: scipy in /usr/local/lib/python3.6/dist-packages (from catboost) (1.4.1)\n",
            "Requirement already satisfied: plotly in /usr/local/lib/python3.6/dist-packages (from catboost) (4.4.1)\n",
            "Requirement already satisfied: python-dateutil>=2.1 in /usr/local/lib/python3.6/dist-packages (from matplotlib->catboost) (2.8.1)\n",
            "Requirement already satisfied: cycler>=0.10 in /usr/local/lib/python3.6/dist-packages (from matplotlib->catboost) (0.10.0)\n",
            "Requirement already satisfied: kiwisolver>=1.0.1 in /usr/local/lib/python3.6/dist-packages (from matplotlib->catboost) (1.1.0)\n",
            "Requirement already satisfied: pyparsing!=2.0.4,!=2.1.2,!=2.1.6,>=2.0.1 in /usr/local/lib/python3.6/dist-packages (from matplotlib->catboost) (2.4.6)\n",
            "Requirement already satisfied: pytz>=2017.2 in /usr/local/lib/python3.6/dist-packages (from pandas>=0.24.0->catboost) (2018.9)\n",
            "Requirement already satisfied: retrying>=1.3.3 in /usr/local/lib/python3.6/dist-packages (from plotly->catboost) (1.3.3)\n",
            "Requirement already satisfied: setuptools in /usr/local/lib/python3.6/dist-packages (from kiwisolver>=1.0.1->matplotlib->catboost) (45.2.0)\n",
            "Installing collected packages: catboost\n",
            "Successfully installed catboost-0.22\n"
          ],
          "name": "stdout"
        }
      ]
    },
    {
      "cell_type": "code",
      "metadata": {
        "id": "TDTJoY55S27y",
        "colab_type": "code",
        "colab": {
          "base_uri": "https://localhost:8080/",
          "height": 1000
        },
        "outputId": "1569ecf7-db5b-4a56-ef0c-f2b2be530cff"
      },
      "source": [
        "from catboost import CatBoostClassifier\n",
        "model = CatBoostClassifier(n_estimators=500,\n",
        "                          learning_rate=0.1,\n",
        "                          depth=8)\n",
        "model.fit(train_X,train_y)\n",
        "val_pred = model.predict(val_X)\n"
      ],
      "execution_count": null,
      "outputs": [
        {
          "output_type": "stream",
          "text": [
            "0:\tlearn: 1.0429843\ttotal: 181ms\tremaining: 17.9s\n",
            "1:\tlearn: 0.9969397\ttotal: 349ms\tremaining: 17.1s\n",
            "2:\tlearn: 0.9590366\ttotal: 516ms\tremaining: 16.7s\n",
            "3:\tlearn: 0.9280155\ttotal: 703ms\tremaining: 16.9s\n",
            "4:\tlearn: 0.9015424\ttotal: 878ms\tremaining: 16.7s\n",
            "5:\tlearn: 0.8787022\ttotal: 1.04s\tremaining: 16.3s\n",
            "6:\tlearn: 0.8598665\ttotal: 1.24s\tremaining: 16.4s\n",
            "7:\tlearn: 0.8428934\ttotal: 1.41s\tremaining: 16.3s\n",
            "8:\tlearn: 0.8273288\ttotal: 1.58s\tremaining: 16s\n",
            "9:\tlearn: 0.8141245\ttotal: 1.76s\tremaining: 15.8s\n",
            "10:\tlearn: 0.8029885\ttotal: 1.93s\tremaining: 15.6s\n",
            "11:\tlearn: 0.7941250\ttotal: 2.12s\tremaining: 15.6s\n",
            "12:\tlearn: 0.7852235\ttotal: 2.3s\tremaining: 15.4s\n",
            "13:\tlearn: 0.7770068\ttotal: 2.47s\tremaining: 15.2s\n",
            "14:\tlearn: 0.7698292\ttotal: 2.65s\tremaining: 15s\n",
            "15:\tlearn: 0.7637222\ttotal: 2.82s\tremaining: 14.8s\n",
            "16:\tlearn: 0.7589206\ttotal: 3.01s\tremaining: 14.7s\n",
            "17:\tlearn: 0.7529283\ttotal: 3.19s\tremaining: 14.5s\n",
            "18:\tlearn: 0.7486150\ttotal: 3.37s\tremaining: 14.4s\n",
            "19:\tlearn: 0.7450012\ttotal: 3.54s\tremaining: 14.2s\n",
            "20:\tlearn: 0.7414374\ttotal: 3.71s\tremaining: 14s\n",
            "21:\tlearn: 0.7381653\ttotal: 3.89s\tremaining: 13.8s\n",
            "22:\tlearn: 0.7347095\ttotal: 4.06s\tremaining: 13.6s\n",
            "23:\tlearn: 0.7315686\ttotal: 4.24s\tremaining: 13.4s\n",
            "24:\tlearn: 0.7295166\ttotal: 4.42s\tremaining: 13.3s\n",
            "25:\tlearn: 0.7272568\ttotal: 4.6s\tremaining: 13.1s\n",
            "26:\tlearn: 0.7253062\ttotal: 4.77s\tremaining: 12.9s\n",
            "27:\tlearn: 0.7235879\ttotal: 4.94s\tremaining: 12.7s\n",
            "28:\tlearn: 0.7218704\ttotal: 5.13s\tremaining: 12.6s\n",
            "29:\tlearn: 0.7199544\ttotal: 5.32s\tremaining: 12.4s\n",
            "30:\tlearn: 0.7187541\ttotal: 5.5s\tremaining: 12.2s\n",
            "31:\tlearn: 0.7173866\ttotal: 5.68s\tremaining: 12.1s\n",
            "32:\tlearn: 0.7156243\ttotal: 5.85s\tremaining: 11.9s\n",
            "33:\tlearn: 0.7143924\ttotal: 6.02s\tremaining: 11.7s\n",
            "34:\tlearn: 0.7131008\ttotal: 6.2s\tremaining: 11.5s\n",
            "35:\tlearn: 0.7113713\ttotal: 6.38s\tremaining: 11.3s\n",
            "36:\tlearn: 0.7101520\ttotal: 6.56s\tremaining: 11.2s\n",
            "37:\tlearn: 0.7091617\ttotal: 6.73s\tremaining: 11s\n",
            "38:\tlearn: 0.7083053\ttotal: 6.9s\tremaining: 10.8s\n",
            "39:\tlearn: 0.7073072\ttotal: 7.08s\tremaining: 10.6s\n",
            "40:\tlearn: 0.7066134\ttotal: 7.28s\tremaining: 10.5s\n",
            "41:\tlearn: 0.7054679\ttotal: 7.45s\tremaining: 10.3s\n",
            "42:\tlearn: 0.7039308\ttotal: 7.63s\tremaining: 10.1s\n",
            "43:\tlearn: 0.7027559\ttotal: 7.81s\tremaining: 9.94s\n",
            "44:\tlearn: 0.7019241\ttotal: 7.97s\tremaining: 9.74s\n",
            "45:\tlearn: 0.7012236\ttotal: 8.15s\tremaining: 9.57s\n",
            "46:\tlearn: 0.7004965\ttotal: 8.35s\tremaining: 9.42s\n",
            "47:\tlearn: 0.6995670\ttotal: 8.52s\tremaining: 9.23s\n",
            "48:\tlearn: 0.6983367\ttotal: 8.7s\tremaining: 9.05s\n",
            "49:\tlearn: 0.6972404\ttotal: 8.87s\tremaining: 8.87s\n",
            "50:\tlearn: 0.6966150\ttotal: 9.05s\tremaining: 8.69s\n",
            "51:\tlearn: 0.6959642\ttotal: 9.21s\tremaining: 8.51s\n",
            "52:\tlearn: 0.6946828\ttotal: 9.4s\tremaining: 8.34s\n",
            "53:\tlearn: 0.6938920\ttotal: 9.57s\tremaining: 8.15s\n",
            "54:\tlearn: 0.6932769\ttotal: 9.76s\tremaining: 7.98s\n",
            "55:\tlearn: 0.6926764\ttotal: 9.92s\tremaining: 7.8s\n",
            "56:\tlearn: 0.6920547\ttotal: 10.1s\tremaining: 7.62s\n",
            "57:\tlearn: 0.6914631\ttotal: 10.3s\tremaining: 7.44s\n",
            "58:\tlearn: 0.6911718\ttotal: 10.5s\tremaining: 7.26s\n",
            "59:\tlearn: 0.6906409\ttotal: 10.6s\tremaining: 7.08s\n",
            "60:\tlearn: 0.6897711\ttotal: 10.8s\tremaining: 6.9s\n",
            "61:\tlearn: 0.6891959\ttotal: 11s\tremaining: 6.72s\n",
            "62:\tlearn: 0.6886052\ttotal: 11.1s\tremaining: 6.54s\n",
            "63:\tlearn: 0.6880311\ttotal: 11.3s\tremaining: 6.37s\n",
            "64:\tlearn: 0.6874583\ttotal: 11.5s\tremaining: 6.2s\n",
            "65:\tlearn: 0.6868731\ttotal: 11.7s\tremaining: 6.02s\n",
            "66:\tlearn: 0.6863875\ttotal: 11.9s\tremaining: 5.85s\n",
            "67:\tlearn: 0.6861312\ttotal: 12.1s\tremaining: 5.68s\n",
            "68:\tlearn: 0.6854953\ttotal: 12.2s\tremaining: 5.5s\n",
            "69:\tlearn: 0.6848359\ttotal: 12.4s\tremaining: 5.32s\n",
            "70:\tlearn: 0.6843122\ttotal: 12.6s\tremaining: 5.14s\n",
            "71:\tlearn: 0.6836829\ttotal: 12.8s\tremaining: 4.96s\n",
            "72:\tlearn: 0.6833537\ttotal: 13s\tremaining: 4.79s\n",
            "73:\tlearn: 0.6825432\ttotal: 13.1s\tremaining: 4.61s\n",
            "74:\tlearn: 0.6821889\ttotal: 13.3s\tremaining: 4.43s\n",
            "75:\tlearn: 0.6815820\ttotal: 13.5s\tremaining: 4.26s\n",
            "76:\tlearn: 0.6808241\ttotal: 13.7s\tremaining: 4.08s\n",
            "77:\tlearn: 0.6803183\ttotal: 13.8s\tremaining: 3.9s\n",
            "78:\tlearn: 0.6796102\ttotal: 14s\tremaining: 3.73s\n",
            "79:\tlearn: 0.6791961\ttotal: 14.2s\tremaining: 3.55s\n",
            "80:\tlearn: 0.6788474\ttotal: 14.4s\tremaining: 3.37s\n",
            "81:\tlearn: 0.6782428\ttotal: 14.6s\tremaining: 3.19s\n",
            "82:\tlearn: 0.6778220\ttotal: 14.7s\tremaining: 3.02s\n",
            "83:\tlearn: 0.6774922\ttotal: 14.9s\tremaining: 2.84s\n",
            "84:\tlearn: 0.6770205\ttotal: 15.1s\tremaining: 2.66s\n",
            "85:\tlearn: 0.6764194\ttotal: 15.3s\tremaining: 2.48s\n",
            "86:\tlearn: 0.6759570\ttotal: 15.5s\tremaining: 2.31s\n",
            "87:\tlearn: 0.6756572\ttotal: 15.6s\tremaining: 2.13s\n",
            "88:\tlearn: 0.6750808\ttotal: 15.8s\tremaining: 1.95s\n",
            "89:\tlearn: 0.6748739\ttotal: 16s\tremaining: 1.78s\n",
            "90:\tlearn: 0.6744724\ttotal: 16.2s\tremaining: 1.6s\n",
            "91:\tlearn: 0.6741864\ttotal: 16.4s\tremaining: 1.42s\n",
            "92:\tlearn: 0.6738779\ttotal: 16.5s\tremaining: 1.25s\n",
            "93:\tlearn: 0.6735862\ttotal: 16.7s\tremaining: 1.07s\n",
            "94:\tlearn: 0.6733601\ttotal: 16.9s\tremaining: 890ms\n",
            "95:\tlearn: 0.6731025\ttotal: 17.1s\tremaining: 712ms\n",
            "96:\tlearn: 0.6726277\ttotal: 17.3s\tremaining: 534ms\n",
            "97:\tlearn: 0.6723461\ttotal: 17.4s\tremaining: 356ms\n",
            "98:\tlearn: 0.6719307\ttotal: 17.6s\tremaining: 178ms\n",
            "99:\tlearn: 0.6716136\ttotal: 17.8s\tremaining: 0us\n"
          ],
          "name": "stdout"
        }
      ]
    },
    {
      "cell_type": "code",
      "metadata": {
        "id": "BTQ1JuRATVOV",
        "colab_type": "code",
        "colab": {
          "base_uri": "https://localhost:8080/",
          "height": 147
        },
        "outputId": "62c6bd2b-bda4-4910-a46b-560993142d7e"
      },
      "source": [
        "val_pred"
      ],
      "execution_count": null,
      "outputs": [
        {
          "output_type": "execute_result",
          "data": {
            "text/plain": [
              "array([[2],\n",
              "       [2],\n",
              "       [3],\n",
              "       ...,\n",
              "       [2],\n",
              "       [2],\n",
              "       [2]])"
            ]
          },
          "metadata": {
            "tags": []
          },
          "execution_count": 124
        }
      ]
    },
    {
      "cell_type": "markdown",
      "metadata": {
        "id": "GU98UVy1WV5J",
        "colab_type": "text"
      },
      "source": [
        "# Testing"
      ]
    },
    {
      "cell_type": "code",
      "metadata": {
        "id": "4cxF7ZZ6WJG-",
        "colab_type": "code",
        "colab": {}
      },
      "source": [
        "test=test.drop(\"building_id\",axis=1)"
      ],
      "execution_count": null,
      "outputs": []
    },
    {
      "cell_type": "code",
      "metadata": {
        "id": "a_WhGn9OWhXv",
        "colab_type": "code",
        "colab": {}
      },
      "source": [
        "test=pd.get_dummies(test)"
      ],
      "execution_count": null,
      "outputs": []
    },
    {
      "cell_type": "code",
      "metadata": {
        "id": "6rVwyIAXWjXF",
        "colab_type": "code",
        "colab": {
          "base_uri": "https://localhost:8080/",
          "height": 36
        },
        "outputId": "0878917c-3af6-4f28-f369-f8beb13543a9"
      },
      "source": [
        "train.shape"
      ],
      "execution_count": null,
      "outputs": [
        {
          "output_type": "execute_result",
          "data": {
            "text/plain": [
              "(221510, 68)"
            ]
          },
          "metadata": {
            "tags": []
          },
          "execution_count": 127
        }
      ]
    },
    {
      "cell_type": "code",
      "metadata": {
        "id": "sKVCLnnRCTg8",
        "colab_type": "code",
        "colab": {}
      },
      "source": [
        "submission_result0 = model0.predict(test.to_numpy())"
      ],
      "execution_count": null,
      "outputs": []
    },
    {
      "cell_type": "code",
      "metadata": {
        "id": "wkoFHP1OFULw",
        "colab_type": "code",
        "colab": {
          "base_uri": "https://localhost:8080/",
          "height": 166
        },
        "outputId": "3c07ca5b-b01a-4a85-c6f3-ac31dec329e0"
      },
      "source": [
        "submission_result0"
      ],
      "execution_count": null,
      "outputs": [
        {
          "output_type": "execute_result",
          "data": {
            "text/plain": [
              "array([[2.88574025e-03, 9.20147598e-02, 5.58402419e-01, 3.46697122e-01],\n",
              "       [1.13134643e-04, 1.18781865e-01, 5.35692573e-01, 3.45412433e-01],\n",
              "       [2.46435343e-06, 1.09315626e-01, 5.67672908e-01, 3.23008984e-01],\n",
              "       ...,\n",
              "       [4.79874114e-04, 1.08868957e-01, 5.41071236e-01, 3.49579901e-01],\n",
              "       [2.98381610e-06, 1.09161995e-01, 5.66659093e-01, 3.24175924e-01],\n",
              "       [8.07496253e-05, 1.05705015e-01, 5.51601768e-01, 3.42612475e-01]],\n",
              "      dtype=float32)"
            ]
          },
          "metadata": {
            "tags": []
          },
          "execution_count": 129
        }
      ]
    },
    {
      "cell_type": "code",
      "metadata": {
        "id": "KMzsrQ9MEBVL",
        "colab_type": "code",
        "colab": {}
      },
      "source": [
        "l=[]\n",
        "for i in range(len(submission_result0)):\n",
        "  if submission_result0[i]==[1., 0., 0., 0.]:\n",
        "    l.append(0)\n",
        "  if submission_result0[i]==[0., 1., 0., 0.]:\n",
        "    l.append(1)\n",
        "  if submission_result0[i]==[0., 0., 1., 0.]:\n",
        "    l.append(2)\n",
        "  if submission_result0[i]==[1., 0., 0., 1.]:\n",
        "    l.append(3)\n"
      ],
      "execution_count": null,
      "outputs": []
    },
    {
      "cell_type": "code",
      "metadata": {
        "id": "IZJgOQfuF05L",
        "colab_type": "code",
        "colab": {}
      },
      "source": [
        ""
      ],
      "execution_count": null,
      "outputs": []
    },
    {
      "cell_type": "code",
      "metadata": {
        "id": "cacGiYDLF077",
        "colab_type": "code",
        "colab": {}
      },
      "source": [
        "# make predictions which we will submit.\n",
        "l=[] \n",
        "test_preds_lgb = lgb_model.predict(test)\n",
        "\n",
        "for i in range(len(test_preds_lgb)):\n",
        "  k=test_preds_lgb[i]\n",
        "  if k <0.5:\n",
        "    l.append(0)\n",
        "  if k>0.5 and k<1.5:\n",
        "    l.append(1)\n",
        "  if k >1.5 and k<2.5:\n",
        "    l.append(2)\n",
        "  if k >2.5:\n",
        "    l.append(3)\n",
        "test_preds_lgb=l\n",
        "\n",
        "# The lines below shows how to save predictions in format used for competition scoring\n",
        "# Just uncomment them.\n",
        "output = pd.DataFrame({'building_id': ids, 'damage_grade': (test_preds_lgb)})\n",
        "output.to_csv('/content/drive/My Drive/DATACEPT COMP6/sub_lgb.csv', index=False)"
      ],
      "execution_count": null,
      "outputs": []
    },
    {
      "cell_type": "code",
      "metadata": {
        "id": "MeMEZ32GGeeD",
        "colab_type": "code",
        "colab": {}
      },
      "source": [
        "# make predictions which we will submit.\n",
        "l=[] \n",
        "test_preds_xgb = xgb_model.predict(test)\n",
        "\n",
        "for i in range(len(test_preds_xgb)):\n",
        "  k=test_preds_xgb[i]\n",
        "  if k <0.5:\n",
        "    l.append(0)\n",
        "  if k>0.5 and k<1.5:\n",
        "    l.append(1)\n",
        "  if k >1.5 and k<2.5:\n",
        "    l.append(2)\n",
        "  if k >2.5:\n",
        "    l.append(3)\n",
        "test_preds_xgb=l\n",
        "\n",
        "# The lines below shows how to save predictions in format used for competition scoring\n",
        "# Just uncomment them.\n",
        "output = pd.DataFrame({'building_id': ids, 'damage_grade': (test_preds_xgb)})\n",
        "output.to_csv('/content/drive/My Drive/DATACEPT COMP6/sub_xgb.csv', index=False)"
      ],
      "execution_count": null,
      "outputs": []
    },
    {
      "cell_type": "code",
      "metadata": {
        "id": "wLlcOXLXHmap",
        "colab_type": "code",
        "colab": {}
      },
      "source": [
        "# make predictions which we will submit.\n",
        "l=[] \n",
        "test_preds_cat = model.predict(test)\n",
        "\n",
        "for i in range(len(test_preds_cat)):\n",
        "  k=test_preds_cat[i]\n",
        "  if k <0.5:\n",
        "    l.append(0)\n",
        "  if k>0.5 and k<1.5:\n",
        "    l.append(1)\n",
        "  if k >1.5 and k<2.5:\n",
        "    l.append(2)\n",
        "  if k >2.5:\n",
        "    l.append(3)\n",
        "test_preds_cat=l\n",
        "\n",
        "# The lines below shows how to save predictions in format used for competition scoring\n",
        "# Just uncomment them.\n",
        "output = pd.DataFrame({'building_id': ids, 'damage_grade': (test_preds_cat)})\n",
        "output.to_csv('/content/drive/My Drive/DATACEPT COMP6/sub_cat.csv', index=False)"
      ],
      "execution_count": null,
      "outputs": []
    },
    {
      "cell_type": "code",
      "metadata": {
        "id": "Yrpsv_CETIa5",
        "colab_type": "code",
        "colab": {}
      },
      "source": [
        "# make predictions which we will submit.\n",
        "l=[] \n",
        "test_preds = 0.5*xgb_model.predict(test)+0.5*lgb_model.predict(test)\n",
        "\n",
        "for i in range(len(test_preds)):\n",
        "  k=test_preds[i]\n",
        "  if k <0.5:\n",
        "    l.append(0)\n",
        "  if k>0.5 and k<1.5:\n",
        "    l.append(1)\n",
        "  if k >1.5 and k<2.5:\n",
        "    l.append(2)\n",
        "  if k >2.5:\n",
        "    l.append(3)\n",
        "test_preds=l\n",
        "\n",
        "# The lines below shows how to save predictions in format used for competition scoring\n",
        "# Just uncomment them.\n",
        "output = pd.DataFrame({'building_id': ids, 'damage_grade': (test_preds)})\n",
        "output.to_csv('/content/drive/My Drive/DATACEPT COMP6/m5alet.csv', index=False)"
      ],
      "execution_count": null,
      "outputs": []
    }
  ]
}