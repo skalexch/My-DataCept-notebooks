{
  "nbformat": 4,
  "nbformat_minor": 0,
  "metadata": {
    "colab": {
      "name": "CompetitionDATACEPT03/03/2020.ipynb",
      "provenance": [],
      "collapsed_sections": [],
      "toc_visible": true
    },
    "kernelspec": {
      "name": "python3",
      "display_name": "Python 3"
    },
    "accelerator": "GPU"
  },
  "cells": [
    {
      "cell_type": "code",
      "metadata": {
        "id": "b6BvPJc1wirX",
        "colab_type": "code",
        "colab": {}
      },
      "source": [
        "import pandas as pd\n",
        "import numpy as np\n",
        "import matplotlib.pyplot as plt\n",
        "from sklearn.model_selection import train_test_split\n",
        "from sklearn.linear_model import LinearRegression\n",
        "from scipy import stats\n",
        "from scipy.stats import norm, skew #for some statistics\n",
        "from sklearn.ensemble import RandomForestRegressor,  GradientBoostingRegressor\n",
        "from sklearn.preprocessing import StandardScaler\n",
        "from sklearn.model_selection import KFold, cross_val_score, train_test_split\n",
        "from sklearn.metrics import mean_squared_error, mean_absolute_error, roc_auc_score \n",
        "import seaborn as sns  #advanced visualization library\n",
        "import requests, zipfile, io\n",
        "import warnings\n",
        "warnings.filterwarnings('ignore')\n"
      ],
      "execution_count": null,
      "outputs": []
    },
    {
      "cell_type": "code",
      "metadata": {
        "id": "ugwDsx8HwyAs",
        "colab_type": "code",
        "colab": {}
      },
      "source": [
        "train = pd.read_csv('/content/drive/My Drive/DATACEPT COMP4/train.csv')\n",
        "test = pd.read_csv('/content/drive/My Drive/DATACEPT COMP4/test.csv')\n",
        "sample_submission = pd.read_csv('/content/drive/My Drive/DATACEPT COMP4/sample_submission.csv')"
      ],
      "execution_count": null,
      "outputs": []
    },
    {
      "cell_type": "markdown",
      "metadata": {
        "id": "nhQKVfGxbhbA",
        "colab_type": "text"
      },
      "source": [
        "#Data exploration and cleaning"
      ]
    },
    {
      "cell_type": "code",
      "metadata": {
        "id": "7d6e8iTd2ww-",
        "colab_type": "code",
        "colab": {
          "base_uri": "https://localhost:8080/",
          "height": 36
        },
        "outputId": "ed97d171-7f22-47b5-9c5d-a54680512daa"
      },
      "source": [
        "train.shape"
      ],
      "execution_count": null,
      "outputs": [
        {
          "output_type": "execute_result",
          "data": {
            "text/plain": [
              "(4815, 13)"
            ]
          },
          "metadata": {
            "tags": []
          },
          "execution_count": 1081
        }
      ]
    },
    {
      "cell_type": "code",
      "metadata": {
        "id": "wkj25SxCxJz9",
        "colab_type": "code",
        "colab": {
          "base_uri": "https://localhost:8080/",
          "height": 206
        },
        "outputId": "c802cb54-a0e5-4231-d5b3-35ee05e47848"
      },
      "source": [
        "train.head()"
      ],
      "execution_count": null,
      "outputs": [
        {
          "output_type": "execute_result",
          "data": {
            "text/html": [
              "<div>\n",
              "<style scoped>\n",
              "    .dataframe tbody tr th:only-of-type {\n",
              "        vertical-align: middle;\n",
              "    }\n",
              "\n",
              "    .dataframe tbody tr th {\n",
              "        vertical-align: top;\n",
              "    }\n",
              "\n",
              "    .dataframe thead th {\n",
              "        text-align: right;\n",
              "    }\n",
              "</style>\n",
              "<table border=\"1\" class=\"dataframe\">\n",
              "  <thead>\n",
              "    <tr style=\"text-align: right;\">\n",
              "      <th></th>\n",
              "      <th>ID</th>\n",
              "      <th>Name</th>\n",
              "      <th>Location</th>\n",
              "      <th>Year</th>\n",
              "      <th>Kilometers_Driven</th>\n",
              "      <th>Fuel_Type</th>\n",
              "      <th>Transmission</th>\n",
              "      <th>Owner_Type</th>\n",
              "      <th>Mileage</th>\n",
              "      <th>Engine</th>\n",
              "      <th>Power</th>\n",
              "      <th>Seats</th>\n",
              "      <th>Price</th>\n",
              "    </tr>\n",
              "  </thead>\n",
              "  <tbody>\n",
              "    <tr>\n",
              "      <th>0</th>\n",
              "      <td>1579</td>\n",
              "      <td>Hyundai Grand i10 Asta Option</td>\n",
              "      <td>Bangalore</td>\n",
              "      <td>2015</td>\n",
              "      <td>50000</td>\n",
              "      <td>Petrol</td>\n",
              "      <td>Manual</td>\n",
              "      <td>First</td>\n",
              "      <td>18.9 kmpl</td>\n",
              "      <td>1197 CC</td>\n",
              "      <td>82 bhp</td>\n",
              "      <td>5.0</td>\n",
              "      <td>5.75</td>\n",
              "    </tr>\n",
              "    <tr>\n",
              "      <th>1</th>\n",
              "      <td>4632</td>\n",
              "      <td>Hyundai Verna SX CRDi AT</td>\n",
              "      <td>Pune</td>\n",
              "      <td>2012</td>\n",
              "      <td>83000</td>\n",
              "      <td>Diesel</td>\n",
              "      <td>Automatic</td>\n",
              "      <td>First</td>\n",
              "      <td>19.08 kmpl</td>\n",
              "      <td>1582 CC</td>\n",
              "      <td>126.32 bhp</td>\n",
              "      <td>5.0</td>\n",
              "      <td>6.00</td>\n",
              "    </tr>\n",
              "    <tr>\n",
              "      <th>2</th>\n",
              "      <td>4455</td>\n",
              "      <td>Fiat Avventura MULTIJET Emotion</td>\n",
              "      <td>Hyderabad</td>\n",
              "      <td>2015</td>\n",
              "      <td>57266</td>\n",
              "      <td>Diesel</td>\n",
              "      <td>Manual</td>\n",
              "      <td>First</td>\n",
              "      <td>20.5 kmpl</td>\n",
              "      <td>1248 CC</td>\n",
              "      <td>91.72 bhp</td>\n",
              "      <td>5.0</td>\n",
              "      <td>6.50</td>\n",
              "    </tr>\n",
              "    <tr>\n",
              "      <th>3</th>\n",
              "      <td>2617</td>\n",
              "      <td>Maruti Swift Dzire ZXi</td>\n",
              "      <td>Ahmedabad</td>\n",
              "      <td>2012</td>\n",
              "      <td>55002</td>\n",
              "      <td>Petrol</td>\n",
              "      <td>Manual</td>\n",
              "      <td>First</td>\n",
              "      <td>17.5 kmpl</td>\n",
              "      <td>1298 CC</td>\n",
              "      <td>85.8 bhp</td>\n",
              "      <td>5.0</td>\n",
              "      <td>4.25</td>\n",
              "    </tr>\n",
              "    <tr>\n",
              "      <th>4</th>\n",
              "      <td>1714</td>\n",
              "      <td>Ford Figo Diesel EXI</td>\n",
              "      <td>Ahmedabad</td>\n",
              "      <td>2012</td>\n",
              "      <td>55005</td>\n",
              "      <td>Diesel</td>\n",
              "      <td>Manual</td>\n",
              "      <td>First</td>\n",
              "      <td>20.0 kmpl</td>\n",
              "      <td>1399 CC</td>\n",
              "      <td>68 bhp</td>\n",
              "      <td>5.0</td>\n",
              "      <td>2.75</td>\n",
              "    </tr>\n",
              "  </tbody>\n",
              "</table>\n",
              "</div>"
            ],
            "text/plain": [
              "     ID                             Name   Location  ...       Power  Seats Price\n",
              "0  1579    Hyundai Grand i10 Asta Option  Bangalore  ...      82 bhp    5.0  5.75\n",
              "1  4632         Hyundai Verna SX CRDi AT       Pune  ...  126.32 bhp    5.0  6.00\n",
              "2  4455  Fiat Avventura MULTIJET Emotion  Hyderabad  ...   91.72 bhp    5.0  6.50\n",
              "3  2617           Maruti Swift Dzire ZXi  Ahmedabad  ...    85.8 bhp    5.0  4.25\n",
              "4  1714             Ford Figo Diesel EXI  Ahmedabad  ...      68 bhp    5.0  2.75\n",
              "\n",
              "[5 rows x 13 columns]"
            ]
          },
          "metadata": {
            "tags": []
          },
          "execution_count": 1077
        }
      ]
    },
    {
      "cell_type": "code",
      "metadata": {
        "id": "pEuYVD0exJ25",
        "colab_type": "code",
        "colab": {
          "base_uri": "https://localhost:8080/",
          "height": 278
        },
        "outputId": "ec1079e5-6a9f-4327-eff2-0c1de30ada27"
      },
      "source": [
        "missing_percentage=(train.isna().sum()/len(train)).sort_values(ascending=False)\n",
        "missing_percentage"
      ],
      "execution_count": null,
      "outputs": [
        {
          "output_type": "execute_result",
          "data": {
            "text/plain": [
              "Seats                0.007892\n",
              "Power                0.006854\n",
              "Engine               0.006854\n",
              "Mileage              0.000415\n",
              "Price                0.000000\n",
              "Owner_Type           0.000000\n",
              "Transmission         0.000000\n",
              "Fuel_Type            0.000000\n",
              "Kilometers_Driven    0.000000\n",
              "Year                 0.000000\n",
              "Location             0.000000\n",
              "Name                 0.000000\n",
              "ID                   0.000000\n",
              "dtype: float64"
            ]
          },
          "metadata": {
            "tags": []
          },
          "execution_count": 1080
        }
      ]
    },
    {
      "cell_type": "code",
      "metadata": {
        "id": "IDMKVMMDxJ7S",
        "colab_type": "code",
        "colab": {}
      },
      "source": [
        "ids=test.ID"
      ],
      "execution_count": null,
      "outputs": []
    },
    {
      "cell_type": "code",
      "metadata": {
        "id": "jHcHGGTa0ddJ",
        "colab_type": "code",
        "colab": {}
      },
      "source": [
        "train=train.dropna()\n",
        "Y=train.Price"
      ],
      "execution_count": null,
      "outputs": []
    },
    {
      "cell_type": "code",
      "metadata": {
        "id": "YyKNZA1zxbGV",
        "colab_type": "code",
        "colab": {}
      },
      "source": [
        "all_data = pd.concat((train, test)).reset_index(drop = True)\n"
      ],
      "execution_count": null,
      "outputs": []
    },
    {
      "cell_type": "code",
      "metadata": {
        "id": "UoTd7Q7TKHPP",
        "colab_type": "code",
        "colab": {}
      },
      "source": [
        "#Extracting the name from the whole model\n",
        "\n",
        "def f(x):\n",
        "  return x.split()[0]\n",
        "all_data[\"Name\"]=all_data[\"Name\"].apply(f)\n",
        "\n"
      ],
      "execution_count": null,
      "outputs": []
    },
    {
      "cell_type": "code",
      "metadata": {
        "id": "oUafXoti0O9q",
        "colab_type": "code",
        "colab": {}
      },
      "source": [
        "#Grouping by Location mean price\n",
        "\n",
        "new=train.groupby('Location')['Price'].agg({'price_per_Location':'mean'})\n",
        "all_data = pd.merge(all_data,new,how='left',left_on='Location',right_on='Location')"
      ],
      "execution_count": null,
      "outputs": []
    },
    {
      "cell_type": "code",
      "metadata": {
        "id": "NJGruid-xbIy",
        "colab_type": "code",
        "colab": {}
      },
      "source": [
        "train= all_data[:len(Y)]\n",
        "test= all_data[len(Y):]\n"
      ],
      "execution_count": null,
      "outputs": []
    },
    {
      "cell_type": "code",
      "metadata": {
        "id": "4xIskMrxCByT",
        "colab_type": "code",
        "colab": {}
      },
      "source": [
        "L=train['Engine'].str.extract(r'(?P<digit>(\\d+))')[\"digit\"]\n"
      ],
      "execution_count": null,
      "outputs": []
    },
    {
      "cell_type": "markdown",
      "metadata": {
        "id": "rB1nOmxT-5bq",
        "colab_type": "text"
      },
      "source": [
        ""
      ]
    },
    {
      "cell_type": "code",
      "metadata": {
        "id": "vG2yPG7e8A5I",
        "colab_type": "code",
        "colab": {}
      },
      "source": [
        "L=L.tolist()\n",
        "train[\"Engine\"]=L\n",
        "train[\"Engine\"]=pd.to_numeric(train[\"Engine\"])"
      ],
      "execution_count": null,
      "outputs": []
    },
    {
      "cell_type": "code",
      "metadata": {
        "id": "L0vhD-sIBziy",
        "colab_type": "code",
        "colab": {}
      },
      "source": [
        "L=train['Mileage'].str.extract(r'(?P<digit>(\\d+.\\d+))')[\"digit\"]\n",
        "L=L.tolist()\n",
        "train[\"Mileage\"]=L\n",
        "train[\"Mileage\"]=pd.to_numeric(train[\"Mileage\"])"
      ],
      "execution_count": null,
      "outputs": []
    },
    {
      "cell_type": "code",
      "metadata": {
        "id": "MA-sCZkx_aSB",
        "colab_type": "code",
        "colab": {}
      },
      "source": [
        "L=train['Power'].str.extract(r'(?P<digit>(\\d+))')[\"digit\"]\n",
        "L=L.tolist()\n",
        "train[\"Power\"]=L\n",
        "train[\"Power\"]=pd.to_numeric(train[\"Power\"])"
      ],
      "execution_count": null,
      "outputs": []
    },
    {
      "cell_type": "code",
      "metadata": {
        "id": "RqwC5eb5-uL8",
        "colab_type": "code",
        "colab": {
          "base_uri": "https://localhost:8080/",
          "height": 240
        },
        "outputId": "f9ed279b-1a85-4e96-8c38-65b720703a61"
      },
      "source": [
        "Y"
      ],
      "execution_count": null,
      "outputs": [
        {
          "output_type": "execute_result",
          "data": {
            "text/plain": [
              "0        5.75\n",
              "1        6.00\n",
              "2        6.50\n",
              "3        4.25\n",
              "4        2.75\n",
              "        ...  \n",
              "4810     2.85\n",
              "4811     3.41\n",
              "4812     2.10\n",
              "4813    19.64\n",
              "4814     2.75\n",
              "Name: Price, Length: 4775, dtype: float64"
            ]
          },
          "metadata": {
            "tags": []
          },
          "execution_count": 1099
        }
      ]
    },
    {
      "cell_type": "code",
      "metadata": {
        "id": "9q6yGZt50s02",
        "colab_type": "code",
        "colab": {}
      },
      "source": [
        "to_drop=[\"ID\",\"Price\"]"
      ],
      "execution_count": null,
      "outputs": []
    },
    {
      "cell_type": "code",
      "metadata": {
        "id": "ZQXg0wTgxbK6",
        "colab_type": "code",
        "colab": {}
      },
      "source": [
        "train=train.drop(to_drop,axis=1)"
      ],
      "execution_count": null,
      "outputs": []
    },
    {
      "cell_type": "code",
      "metadata": {
        "id": "JJomjSpF1K-o",
        "colab_type": "code",
        "colab": {}
      },
      "source": [
        "train=pd.get_dummies(train)"
      ],
      "execution_count": null,
      "outputs": []
    },
    {
      "cell_type": "code",
      "metadata": {
        "id": "k4edl6U3xJ5H",
        "colab_type": "code",
        "colab": {}
      },
      "source": [
        "#There are 6 car names that are not in the test set, therefore I found them using set difference (ensemble A-ensemble B) then I eliminated them\n",
        "s=set(train.Name.unique())\n",
        "s2=set(test.Name.unique())\n",
        "s=s-s2\n",
        "print(s)\n"
      ],
      "execution_count": null,
      "outputs": []
    },
    {
      "cell_type": "code",
      "metadata": {
        "id": "wKhfdP_-cXSz",
        "colab_type": "code",
        "colab": {}
      },
      "source": [
        "s=['Name_Lamborghini', 'Name_Force', 'Name_Bentley', 'Name_Smart', 'Name_Isuzu', 'Name_Ambassador']"
      ],
      "execution_count": null,
      "outputs": []
    },
    {
      "cell_type": "code",
      "metadata": {
        "id": "VdFCu1_uLkJL",
        "colab_type": "code",
        "colab": {}
      },
      "source": [
        "train=train.drop(s,axis=1)"
      ],
      "execution_count": null,
      "outputs": []
    },
    {
      "cell_type": "markdown",
      "metadata": {
        "id": "WfYfM7gOdTXe",
        "colab_type": "text"
      },
      "source": [
        "#Modelling"
      ]
    },
    {
      "cell_type": "code",
      "metadata": {
        "id": "_Jazs0_S1YF7",
        "colab_type": "code",
        "colab": {}
      },
      "source": [
        "train_X, val_X, train_y, val_y = train_test_split(train,Y , test_size=0.20, random_state=4)"
      ],
      "execution_count": null,
      "outputs": []
    },
    {
      "cell_type": "code",
      "metadata": {
        "id": "tNTsuToQ7sMs",
        "colab_type": "code",
        "colab": {
          "base_uri": "https://localhost:8080/",
          "height": 36
        },
        "outputId": "9535c76b-95d6-4a74-f1be-614c55b80905"
      },
      "source": [
        "train.shape"
      ],
      "execution_count": null,
      "outputs": [
        {
          "output_type": "execute_result",
          "data": {
            "text/plain": [
              "(4775, 52)"
            ]
          },
          "metadata": {
            "tags": []
          },
          "execution_count": 1107
        }
      ]
    },
    {
      "cell_type": "code",
      "metadata": {
        "id": "OVzElRMx1Y8-",
        "colab_type": "code",
        "colab": {
          "base_uri": "https://localhost:8080/",
          "height": 54
        },
        "outputId": "ecd9a57f-131f-4982-9eac-e0fd436536bc"
      },
      "source": [
        "import xgboost as xgb\n",
        "xgb_model =xgb.XGBRegressor(gamma=0, \n",
        "                             learning_rate=0.1, max_depth=8, \n",
        "                             n_estimators=500,\n",
        "                             tree_method='gpu_hist' )\n",
        "xgb_model=xgb_model.fit(train_X, train_y)\n",
        "val_pred_xgb = xgb_model.predict(val_X)\n",
        "val_mae_xgb = np.sqrt(mean_squared_error(val_pred_xgb, val_y))\n",
        "print(val_mae_xgb)\n"
      ],
      "execution_count": null,
      "outputs": [
        {
          "output_type": "stream",
          "text": [
            "[21:16:54] WARNING: /workspace/src/objective/regression_obj.cu:152: reg:linear is now deprecated in favor of reg:squarederror.\n",
            "2.6289716642060705\n"
          ],
          "name": "stdout"
        }
      ]
    },
    {
      "cell_type": "code",
      "metadata": {
        "id": "DmxsTkefEZHw",
        "colab_type": "code",
        "colab": {
          "base_uri": "https://localhost:8080/",
          "height": 36
        },
        "outputId": "0fecdbf3-53d5-4308-d487-304c5e47151e"
      },
      "source": [
        "import lightgbm as lgb\n",
        "lgb_model = lgb.LGBMRegressor(colsample_bytree=0.4,\n",
        "                 learning_rate=0.1,\n",
        "                 max_depth=8,\n",
        "                 min_child_weight=1.5,\n",
        "                 n_estimators=500,                                                                   \n",
        "                 reg_alpha=0.45,\n",
        "                 reg_lambda=0.75,\n",
        "                 subsample=0.6,\n",
        "                 seed=42)\n",
        "lgb_model.fit(train_X,train_y)\n",
        "val_pred_lgb = lgb_model.predict(val_X)\n",
        "val_mae_lgb = np.sqrt(mean_squared_error(val_pred_lgb, val_y))\n",
        "print(val_mae_lgb)"
      ],
      "execution_count": null,
      "outputs": [
        {
          "output_type": "stream",
          "text": [
            "3.0097721130456074\n"
          ],
          "name": "stdout"
        }
      ]
    },
    {
      "cell_type": "code",
      "metadata": {
        "id": "hSNY9mCzMV8k",
        "colab_type": "code",
        "colab": {}
      },
      "source": [
        "#Execute only once\n",
        "pip install catboost"
      ],
      "execution_count": null,
      "outputs": []
    },
    {
      "cell_type": "code",
      "metadata": {
        "id": "WtBkrUnAMUhQ",
        "colab_type": "code",
        "colab": {
          "base_uri": "https://localhost:8080/",
          "height": 1000
        },
        "outputId": "fb619f0f-523d-4c8c-dff3-00ea2e83140f"
      },
      "source": [
        "from catboost import CatBoostRegressor\n",
        "model = CatBoostRegressor(n_estimators=500,\n",
        "                          learning_rate=0.1,\n",
        "                          depth=8)\n",
        "model.fit(train_X,train_y)\n",
        "val_pred = model.predict(val_X)\n",
        "val_mae = np.sqrt(mean_squared_error(val_pred, val_y))\n",
        "print(val_mae)"
      ],
      "execution_count": null,
      "outputs": [
        {
          "output_type": "stream",
          "text": [
            "0:\tlearn: 10.5284302\ttotal: 4.6ms\tremaining: 2.29s\n",
            "1:\tlearn: 9.8448724\ttotal: 8.7ms\tremaining: 2.17s\n",
            "2:\tlearn: 9.2375161\ttotal: 12.6ms\tremaining: 2.09s\n",
            "3:\tlearn: 8.6912379\ttotal: 16.5ms\tremaining: 2.04s\n",
            "4:\tlearn: 8.2116652\ttotal: 20.3ms\tremaining: 2.01s\n",
            "5:\tlearn: 7.7657699\ttotal: 24ms\tremaining: 1.98s\n",
            "6:\tlearn: 7.3946130\ttotal: 27.9ms\tremaining: 1.96s\n",
            "7:\tlearn: 7.0478327\ttotal: 31.8ms\tremaining: 1.96s\n",
            "8:\tlearn: 6.6761544\ttotal: 35.6ms\tremaining: 1.94s\n",
            "9:\tlearn: 6.3629844\ttotal: 39.4ms\tremaining: 1.93s\n",
            "10:\tlearn: 6.0797727\ttotal: 43.4ms\tremaining: 1.93s\n",
            "11:\tlearn: 5.8347311\ttotal: 47.4ms\tremaining: 1.93s\n",
            "12:\tlearn: 5.5969326\ttotal: 51.3ms\tremaining: 1.92s\n",
            "13:\tlearn: 5.4075417\ttotal: 55.1ms\tremaining: 1.91s\n",
            "14:\tlearn: 5.1946666\ttotal: 59ms\tremaining: 1.91s\n",
            "15:\tlearn: 5.0215398\ttotal: 63ms\tremaining: 1.91s\n",
            "16:\tlearn: 4.8636627\ttotal: 66.8ms\tremaining: 1.9s\n",
            "17:\tlearn: 4.7252373\ttotal: 70.5ms\tremaining: 1.89s\n",
            "18:\tlearn: 4.5878788\ttotal: 74.3ms\tremaining: 1.88s\n",
            "19:\tlearn: 4.4747174\ttotal: 77.9ms\tremaining: 1.87s\n",
            "20:\tlearn: 4.3637912\ttotal: 81.7ms\tremaining: 1.86s\n",
            "21:\tlearn: 4.2636600\ttotal: 85.6ms\tremaining: 1.86s\n",
            "22:\tlearn: 4.1869459\ttotal: 89.4ms\tremaining: 1.85s\n",
            "23:\tlearn: 4.0908564\ttotal: 93.4ms\tremaining: 1.85s\n",
            "24:\tlearn: 4.0099925\ttotal: 97.2ms\tremaining: 1.85s\n",
            "25:\tlearn: 3.9361156\ttotal: 101ms\tremaining: 1.84s\n",
            "26:\tlearn: 3.8742213\ttotal: 105ms\tremaining: 1.84s\n",
            "27:\tlearn: 3.7950413\ttotal: 109ms\tremaining: 1.84s\n",
            "28:\tlearn: 3.7243301\ttotal: 113ms\tremaining: 1.83s\n",
            "29:\tlearn: 3.6557707\ttotal: 116ms\tremaining: 1.82s\n",
            "30:\tlearn: 3.6087689\ttotal: 120ms\tremaining: 1.82s\n",
            "31:\tlearn: 3.5646084\ttotal: 124ms\tremaining: 1.81s\n",
            "32:\tlearn: 3.5173596\ttotal: 128ms\tremaining: 1.8s\n",
            "33:\tlearn: 3.4694962\ttotal: 131ms\tremaining: 1.8s\n",
            "34:\tlearn: 3.4218977\ttotal: 135ms\tremaining: 1.79s\n",
            "35:\tlearn: 3.3831677\ttotal: 139ms\tremaining: 1.79s\n",
            "36:\tlearn: 3.3370892\ttotal: 143ms\tremaining: 1.79s\n",
            "37:\tlearn: 3.2951865\ttotal: 147ms\tremaining: 1.79s\n",
            "38:\tlearn: 3.2533148\ttotal: 151ms\tremaining: 1.79s\n",
            "39:\tlearn: 3.2098505\ttotal: 162ms\tremaining: 1.86s\n",
            "40:\tlearn: 3.1751817\ttotal: 167ms\tremaining: 1.87s\n",
            "41:\tlearn: 3.1452208\ttotal: 175ms\tremaining: 1.9s\n",
            "42:\tlearn: 3.1118974\ttotal: 180ms\tremaining: 1.91s\n",
            "43:\tlearn: 3.0940144\ttotal: 183ms\tremaining: 1.9s\n",
            "44:\tlearn: 3.0775481\ttotal: 187ms\tremaining: 1.89s\n",
            "45:\tlearn: 3.0566177\ttotal: 190ms\tremaining: 1.88s\n",
            "46:\tlearn: 3.0241590\ttotal: 194ms\tremaining: 1.87s\n",
            "47:\tlearn: 3.0009774\ttotal: 203ms\tremaining: 1.91s\n",
            "48:\tlearn: 2.9783148\ttotal: 206ms\tremaining: 1.9s\n",
            "49:\tlearn: 2.9556746\ttotal: 210ms\tremaining: 1.89s\n",
            "50:\tlearn: 2.9411230\ttotal: 212ms\tremaining: 1.87s\n",
            "51:\tlearn: 2.9238170\ttotal: 216ms\tremaining: 1.86s\n",
            "52:\tlearn: 2.9073234\ttotal: 220ms\tremaining: 1.85s\n",
            "53:\tlearn: 2.8893679\ttotal: 224ms\tremaining: 1.85s\n",
            "54:\tlearn: 2.8668614\ttotal: 228ms\tremaining: 1.84s\n",
            "55:\tlearn: 2.8467352\ttotal: 232ms\tremaining: 1.83s\n",
            "56:\tlearn: 2.8304687\ttotal: 235ms\tremaining: 1.83s\n",
            "57:\tlearn: 2.8199648\ttotal: 239ms\tremaining: 1.82s\n",
            "58:\tlearn: 2.8115454\ttotal: 243ms\tremaining: 1.82s\n",
            "59:\tlearn: 2.8034567\ttotal: 247ms\tremaining: 1.81s\n",
            "60:\tlearn: 2.7889849\ttotal: 251ms\tremaining: 1.8s\n",
            "61:\tlearn: 2.7707986\ttotal: 255ms\tremaining: 1.8s\n",
            "62:\tlearn: 2.7521579\ttotal: 259ms\tremaining: 1.8s\n",
            "63:\tlearn: 2.7263262\ttotal: 266ms\tremaining: 1.81s\n",
            "64:\tlearn: 2.7078204\ttotal: 270ms\tremaining: 1.8s\n",
            "65:\tlearn: 2.7035357\ttotal: 273ms\tremaining: 1.8s\n",
            "66:\tlearn: 2.6959702\ttotal: 277ms\tremaining: 1.79s\n",
            "67:\tlearn: 2.6853726\ttotal: 281ms\tremaining: 1.78s\n",
            "68:\tlearn: 2.6622440\ttotal: 285ms\tremaining: 1.78s\n",
            "69:\tlearn: 2.6515934\ttotal: 289ms\tremaining: 1.78s\n",
            "70:\tlearn: 2.6369955\ttotal: 293ms\tremaining: 1.77s\n",
            "71:\tlearn: 2.6192425\ttotal: 297ms\tremaining: 1.77s\n",
            "72:\tlearn: 2.6124507\ttotal: 301ms\tremaining: 1.76s\n",
            "73:\tlearn: 2.6001076\ttotal: 305ms\tremaining: 1.76s\n",
            "74:\tlearn: 2.5777726\ttotal: 309ms\tremaining: 1.75s\n",
            "75:\tlearn: 2.5653126\ttotal: 313ms\tremaining: 1.75s\n",
            "76:\tlearn: 2.5567398\ttotal: 317ms\tremaining: 1.74s\n",
            "77:\tlearn: 2.5458655\ttotal: 321ms\tremaining: 1.74s\n",
            "78:\tlearn: 2.5308636\ttotal: 325ms\tremaining: 1.73s\n",
            "79:\tlearn: 2.5195046\ttotal: 329ms\tremaining: 1.73s\n",
            "80:\tlearn: 2.5040524\ttotal: 333ms\tremaining: 1.72s\n",
            "81:\tlearn: 2.4912014\ttotal: 337ms\tremaining: 1.72s\n",
            "82:\tlearn: 2.4701572\ttotal: 341ms\tremaining: 1.71s\n",
            "83:\tlearn: 2.4628854\ttotal: 345ms\tremaining: 1.71s\n",
            "84:\tlearn: 2.4502179\ttotal: 349ms\tremaining: 1.7s\n",
            "85:\tlearn: 2.4305646\ttotal: 353ms\tremaining: 1.7s\n",
            "86:\tlearn: 2.4137960\ttotal: 360ms\tremaining: 1.71s\n",
            "87:\tlearn: 2.3969928\ttotal: 364ms\tremaining: 1.7s\n",
            "88:\tlearn: 2.3901034\ttotal: 367ms\tremaining: 1.7s\n",
            "89:\tlearn: 2.3738778\ttotal: 371ms\tremaining: 1.69s\n",
            "90:\tlearn: 2.3627766\ttotal: 375ms\tremaining: 1.69s\n",
            "91:\tlearn: 2.3486794\ttotal: 379ms\tremaining: 1.68s\n",
            "92:\tlearn: 2.3295697\ttotal: 383ms\tremaining: 1.68s\n",
            "93:\tlearn: 2.3245141\ttotal: 387ms\tremaining: 1.67s\n",
            "94:\tlearn: 2.3126660\ttotal: 391ms\tremaining: 1.67s\n",
            "95:\tlearn: 2.3022551\ttotal: 395ms\tremaining: 1.66s\n",
            "96:\tlearn: 2.2894946\ttotal: 401ms\tremaining: 1.67s\n",
            "97:\tlearn: 2.2711664\ttotal: 405ms\tremaining: 1.66s\n",
            "98:\tlearn: 2.2601523\ttotal: 409ms\tremaining: 1.66s\n",
            "99:\tlearn: 2.2495943\ttotal: 413ms\tremaining: 1.65s\n",
            "100:\tlearn: 2.2492361\ttotal: 414ms\tremaining: 1.64s\n",
            "101:\tlearn: 2.2420699\ttotal: 418ms\tremaining: 1.63s\n",
            "102:\tlearn: 2.2303164\ttotal: 422ms\tremaining: 1.63s\n",
            "103:\tlearn: 2.2182651\ttotal: 426ms\tremaining: 1.62s\n",
            "104:\tlearn: 2.2032240\ttotal: 429ms\tremaining: 1.61s\n",
            "105:\tlearn: 2.1953848\ttotal: 433ms\tremaining: 1.61s\n",
            "106:\tlearn: 2.1883554\ttotal: 437ms\tremaining: 1.6s\n",
            "107:\tlearn: 2.1713447\ttotal: 441ms\tremaining: 1.6s\n",
            "108:\tlearn: 2.1624860\ttotal: 445ms\tremaining: 1.59s\n",
            "109:\tlearn: 2.1579457\ttotal: 449ms\tremaining: 1.59s\n",
            "110:\tlearn: 2.1485640\ttotal: 452ms\tremaining: 1.58s\n",
            "111:\tlearn: 2.1481134\ttotal: 455ms\tremaining: 1.58s\n",
            "112:\tlearn: 2.1385209\ttotal: 459ms\tremaining: 1.57s\n",
            "113:\tlearn: 2.1380577\ttotal: 463ms\tremaining: 1.57s\n",
            "114:\tlearn: 2.1287205\ttotal: 466ms\tremaining: 1.56s\n",
            "115:\tlearn: 2.1115657\ttotal: 470ms\tremaining: 1.56s\n",
            "116:\tlearn: 2.0986145\ttotal: 474ms\tremaining: 1.55s\n",
            "117:\tlearn: 2.0867723\ttotal: 478ms\tremaining: 1.55s\n",
            "118:\tlearn: 2.0799337\ttotal: 481ms\tremaining: 1.54s\n",
            "119:\tlearn: 2.0708100\ttotal: 485ms\tremaining: 1.53s\n",
            "120:\tlearn: 2.0641928\ttotal: 489ms\tremaining: 1.53s\n",
            "121:\tlearn: 2.0636554\ttotal: 493ms\tremaining: 1.53s\n",
            "122:\tlearn: 2.0624251\ttotal: 497ms\tremaining: 1.52s\n",
            "123:\tlearn: 2.0554102\ttotal: 500ms\tremaining: 1.52s\n",
            "124:\tlearn: 2.0549377\ttotal: 504ms\tremaining: 1.51s\n",
            "125:\tlearn: 2.0479981\ttotal: 508ms\tremaining: 1.51s\n",
            "126:\tlearn: 2.0476160\ttotal: 512ms\tremaining: 1.5s\n",
            "127:\tlearn: 2.0470374\ttotal: 516ms\tremaining: 1.5s\n",
            "128:\tlearn: 2.0377753\ttotal: 519ms\tremaining: 1.49s\n",
            "129:\tlearn: 2.0323238\ttotal: 523ms\tremaining: 1.49s\n",
            "130:\tlearn: 2.0289595\ttotal: 527ms\tremaining: 1.48s\n",
            "131:\tlearn: 2.0194452\ttotal: 531ms\tremaining: 1.48s\n",
            "132:\tlearn: 2.0130593\ttotal: 535ms\tremaining: 1.48s\n",
            "133:\tlearn: 1.9980447\ttotal: 539ms\tremaining: 1.47s\n",
            "134:\tlearn: 1.9901404\ttotal: 542ms\tremaining: 1.47s\n",
            "135:\tlearn: 1.9840607\ttotal: 546ms\tremaining: 1.46s\n",
            "136:\tlearn: 1.9762224\ttotal: 550ms\tremaining: 1.46s\n",
            "137:\tlearn: 1.9649445\ttotal: 556ms\tremaining: 1.46s\n",
            "138:\tlearn: 1.9535734\ttotal: 561ms\tremaining: 1.46s\n",
            "139:\tlearn: 1.9423340\ttotal: 565ms\tremaining: 1.45s\n",
            "140:\tlearn: 1.9341814\ttotal: 569ms\tremaining: 1.45s\n",
            "141:\tlearn: 1.9232966\ttotal: 572ms\tremaining: 1.44s\n",
            "142:\tlearn: 1.9152882\ttotal: 576ms\tremaining: 1.44s\n",
            "143:\tlearn: 1.9090356\ttotal: 580ms\tremaining: 1.43s\n",
            "144:\tlearn: 1.9032912\ttotal: 584ms\tremaining: 1.43s\n",
            "145:\tlearn: 1.8950584\ttotal: 588ms\tremaining: 1.43s\n",
            "146:\tlearn: 1.8890319\ttotal: 592ms\tremaining: 1.42s\n",
            "147:\tlearn: 1.8837341\ttotal: 596ms\tremaining: 1.42s\n",
            "148:\tlearn: 1.8785231\ttotal: 602ms\tremaining: 1.42s\n",
            "149:\tlearn: 1.8743053\ttotal: 606ms\tremaining: 1.41s\n",
            "150:\tlearn: 1.8668518\ttotal: 610ms\tremaining: 1.41s\n",
            "151:\tlearn: 1.8571311\ttotal: 614ms\tremaining: 1.41s\n",
            "152:\tlearn: 1.8508884\ttotal: 618ms\tremaining: 1.4s\n",
            "153:\tlearn: 1.8468079\ttotal: 622ms\tremaining: 1.4s\n",
            "154:\tlearn: 1.8369075\ttotal: 626ms\tremaining: 1.39s\n",
            "155:\tlearn: 1.8298645\ttotal: 630ms\tremaining: 1.39s\n",
            "156:\tlearn: 1.8253349\ttotal: 634ms\tremaining: 1.38s\n",
            "157:\tlearn: 1.8212705\ttotal: 638ms\tremaining: 1.38s\n",
            "158:\tlearn: 1.8182290\ttotal: 642ms\tremaining: 1.38s\n",
            "159:\tlearn: 1.8112297\ttotal: 646ms\tremaining: 1.37s\n",
            "160:\tlearn: 1.8080845\ttotal: 649ms\tremaining: 1.37s\n",
            "161:\tlearn: 1.7972167\ttotal: 653ms\tremaining: 1.36s\n",
            "162:\tlearn: 1.7857752\ttotal: 657ms\tremaining: 1.36s\n",
            "163:\tlearn: 1.7784466\ttotal: 661ms\tremaining: 1.35s\n",
            "164:\tlearn: 1.7690961\ttotal: 665ms\tremaining: 1.35s\n",
            "165:\tlearn: 1.7611282\ttotal: 669ms\tremaining: 1.34s\n",
            "166:\tlearn: 1.7544961\ttotal: 672ms\tremaining: 1.34s\n",
            "167:\tlearn: 1.7493234\ttotal: 676ms\tremaining: 1.34s\n",
            "168:\tlearn: 1.7460084\ttotal: 680ms\tremaining: 1.33s\n",
            "169:\tlearn: 1.7434336\ttotal: 684ms\tremaining: 1.33s\n",
            "170:\tlearn: 1.7334805\ttotal: 688ms\tremaining: 1.32s\n",
            "171:\tlearn: 1.7314396\ttotal: 691ms\tremaining: 1.32s\n",
            "172:\tlearn: 1.7197950\ttotal: 695ms\tremaining: 1.31s\n",
            "173:\tlearn: 1.7143365\ttotal: 699ms\tremaining: 1.31s\n",
            "174:\tlearn: 1.7065520\ttotal: 703ms\tremaining: 1.3s\n",
            "175:\tlearn: 1.6997621\ttotal: 707ms\tremaining: 1.3s\n",
            "176:\tlearn: 1.6976654\ttotal: 711ms\tremaining: 1.3s\n",
            "177:\tlearn: 1.6921440\ttotal: 714ms\tremaining: 1.29s\n",
            "178:\tlearn: 1.6900380\ttotal: 718ms\tremaining: 1.29s\n",
            "179:\tlearn: 1.6831723\ttotal: 722ms\tremaining: 1.28s\n",
            "180:\tlearn: 1.6804375\ttotal: 726ms\tremaining: 1.28s\n",
            "181:\tlearn: 1.6740266\ttotal: 730ms\tremaining: 1.27s\n",
            "182:\tlearn: 1.6691102\ttotal: 733ms\tremaining: 1.27s\n",
            "183:\tlearn: 1.6631482\ttotal: 737ms\tremaining: 1.27s\n",
            "184:\tlearn: 1.6542013\ttotal: 741ms\tremaining: 1.26s\n",
            "185:\tlearn: 1.6507209\ttotal: 745ms\tremaining: 1.26s\n",
            "186:\tlearn: 1.6489832\ttotal: 749ms\tremaining: 1.25s\n",
            "187:\tlearn: 1.6424335\ttotal: 758ms\tremaining: 1.26s\n",
            "188:\tlearn: 1.6408798\ttotal: 762ms\tremaining: 1.25s\n",
            "189:\tlearn: 1.6351105\ttotal: 766ms\tremaining: 1.25s\n",
            "190:\tlearn: 1.6278019\ttotal: 770ms\tremaining: 1.25s\n",
            "191:\tlearn: 1.6215302\ttotal: 774ms\tremaining: 1.24s\n",
            "192:\tlearn: 1.6187358\ttotal: 779ms\tremaining: 1.24s\n",
            "193:\tlearn: 1.6146819\ttotal: 783ms\tremaining: 1.23s\n",
            "194:\tlearn: 1.6072531\ttotal: 787ms\tremaining: 1.23s\n",
            "195:\tlearn: 1.6056788\ttotal: 791ms\tremaining: 1.23s\n",
            "196:\tlearn: 1.5988582\ttotal: 795ms\tremaining: 1.22s\n",
            "197:\tlearn: 1.5907667\ttotal: 802ms\tremaining: 1.22s\n",
            "198:\tlearn: 1.5863318\ttotal: 806ms\tremaining: 1.22s\n",
            "199:\tlearn: 1.5827198\ttotal: 810ms\tremaining: 1.22s\n",
            "200:\tlearn: 1.5776505\ttotal: 814ms\tremaining: 1.21s\n",
            "201:\tlearn: 1.5748126\ttotal: 818ms\tremaining: 1.21s\n",
            "202:\tlearn: 1.5718005\ttotal: 822ms\tremaining: 1.2s\n",
            "203:\tlearn: 1.5682824\ttotal: 826ms\tremaining: 1.2s\n",
            "204:\tlearn: 1.5652026\ttotal: 830ms\tremaining: 1.19s\n",
            "205:\tlearn: 1.5570572\ttotal: 834ms\tremaining: 1.19s\n",
            "206:\tlearn: 1.5498589\ttotal: 838ms\tremaining: 1.19s\n",
            "207:\tlearn: 1.5485981\ttotal: 842ms\tremaining: 1.18s\n",
            "208:\tlearn: 1.5447899\ttotal: 846ms\tremaining: 1.18s\n",
            "209:\tlearn: 1.5392943\ttotal: 850ms\tremaining: 1.17s\n",
            "210:\tlearn: 1.5345673\ttotal: 854ms\tremaining: 1.17s\n",
            "211:\tlearn: 1.5300769\ttotal: 858ms\tremaining: 1.17s\n",
            "212:\tlearn: 1.5266433\ttotal: 862ms\tremaining: 1.16s\n",
            "213:\tlearn: 1.5212478\ttotal: 866ms\tremaining: 1.16s\n",
            "214:\tlearn: 1.5197275\ttotal: 870ms\tremaining: 1.15s\n",
            "215:\tlearn: 1.5150710\ttotal: 874ms\tremaining: 1.15s\n",
            "216:\tlearn: 1.5101867\ttotal: 877ms\tremaining: 1.14s\n",
            "217:\tlearn: 1.5053317\ttotal: 881ms\tremaining: 1.14s\n",
            "218:\tlearn: 1.5004481\ttotal: 885ms\tremaining: 1.14s\n",
            "219:\tlearn: 1.4959520\ttotal: 889ms\tremaining: 1.13s\n",
            "220:\tlearn: 1.4906670\ttotal: 892ms\tremaining: 1.13s\n",
            "221:\tlearn: 1.4849606\ttotal: 896ms\tremaining: 1.12s\n",
            "222:\tlearn: 1.4820965\ttotal: 900ms\tremaining: 1.12s\n",
            "223:\tlearn: 1.4711972\ttotal: 904ms\tremaining: 1.11s\n",
            "224:\tlearn: 1.4656496\ttotal: 908ms\tremaining: 1.11s\n",
            "225:\tlearn: 1.4629981\ttotal: 911ms\tremaining: 1.1s\n",
            "226:\tlearn: 1.4603420\ttotal: 915ms\tremaining: 1.1s\n",
            "227:\tlearn: 1.4570720\ttotal: 919ms\tremaining: 1.09s\n",
            "228:\tlearn: 1.4547655\ttotal: 922ms\tremaining: 1.09s\n",
            "229:\tlearn: 1.4515460\ttotal: 926ms\tremaining: 1.09s\n",
            "230:\tlearn: 1.4482156\ttotal: 930ms\tremaining: 1.08s\n",
            "231:\tlearn: 1.4467729\ttotal: 934ms\tremaining: 1.08s\n",
            "232:\tlearn: 1.4426927\ttotal: 938ms\tremaining: 1.07s\n",
            "233:\tlearn: 1.4357447\ttotal: 942ms\tremaining: 1.07s\n",
            "234:\tlearn: 1.4300063\ttotal: 946ms\tremaining: 1.07s\n",
            "235:\tlearn: 1.4255863\ttotal: 950ms\tremaining: 1.06s\n",
            "236:\tlearn: 1.4218361\ttotal: 959ms\tremaining: 1.06s\n",
            "237:\tlearn: 1.4161871\ttotal: 963ms\tremaining: 1.06s\n",
            "238:\tlearn: 1.4092692\ttotal: 967ms\tremaining: 1.05s\n",
            "239:\tlearn: 1.4073697\ttotal: 971ms\tremaining: 1.05s\n",
            "240:\tlearn: 1.4064608\ttotal: 975ms\tremaining: 1.05s\n",
            "241:\tlearn: 1.4016787\ttotal: 979ms\tremaining: 1.04s\n",
            "242:\tlearn: 1.3996345\ttotal: 983ms\tremaining: 1.04s\n",
            "243:\tlearn: 1.3988038\ttotal: 986ms\tremaining: 1.03s\n",
            "244:\tlearn: 1.3935284\ttotal: 990ms\tremaining: 1.03s\n",
            "245:\tlearn: 1.3890659\ttotal: 994ms\tremaining: 1.02s\n",
            "246:\tlearn: 1.3872333\ttotal: 997ms\tremaining: 1.02s\n",
            "247:\tlearn: 1.3836330\ttotal: 1s\tremaining: 1.02s\n",
            "248:\tlearn: 1.3812748\ttotal: 1.01s\tremaining: 1.01s\n",
            "249:\tlearn: 1.3781868\ttotal: 1.01s\tremaining: 1.01s\n",
            "250:\tlearn: 1.3755478\ttotal: 1.01s\tremaining: 1.01s\n",
            "251:\tlearn: 1.3707816\ttotal: 1.02s\tremaining: 1s\n",
            "252:\tlearn: 1.3664635\ttotal: 1.02s\tremaining: 999ms\n",
            "253:\tlearn: 1.3611214\ttotal: 1.03s\tremaining: 995ms\n",
            "254:\tlearn: 1.3556921\ttotal: 1.03s\tremaining: 991ms\n",
            "255:\tlearn: 1.3541868\ttotal: 1.03s\tremaining: 986ms\n",
            "256:\tlearn: 1.3503215\ttotal: 1.04s\tremaining: 982ms\n",
            "257:\tlearn: 1.3478494\ttotal: 1.04s\tremaining: 978ms\n",
            "258:\tlearn: 1.3461568\ttotal: 1.05s\tremaining: 973ms\n",
            "259:\tlearn: 1.3433214\ttotal: 1.05s\tremaining: 969ms\n",
            "260:\tlearn: 1.3407202\ttotal: 1.05s\tremaining: 965ms\n",
            "261:\tlearn: 1.3384740\ttotal: 1.06s\tremaining: 960ms\n",
            "262:\tlearn: 1.3348302\ttotal: 1.06s\tremaining: 956ms\n",
            "263:\tlearn: 1.3301769\ttotal: 1.06s\tremaining: 952ms\n",
            "264:\tlearn: 1.3264600\ttotal: 1.07s\tremaining: 948ms\n",
            "265:\tlearn: 1.3243106\ttotal: 1.07s\tremaining: 944ms\n",
            "266:\tlearn: 1.3181063\ttotal: 1.08s\tremaining: 940ms\n",
            "267:\tlearn: 1.3159004\ttotal: 1.08s\tremaining: 936ms\n",
            "268:\tlearn: 1.3139949\ttotal: 1.08s\tremaining: 931ms\n",
            "269:\tlearn: 1.3114405\ttotal: 1.09s\tremaining: 927ms\n",
            "270:\tlearn: 1.3073742\ttotal: 1.09s\tremaining: 923ms\n",
            "271:\tlearn: 1.3047307\ttotal: 1.09s\tremaining: 919ms\n",
            "272:\tlearn: 1.3020871\ttotal: 1.1s\tremaining: 914ms\n",
            "273:\tlearn: 1.2973135\ttotal: 1.1s\tremaining: 910ms\n",
            "274:\tlearn: 1.2961831\ttotal: 1.11s\tremaining: 906ms\n",
            "275:\tlearn: 1.2925748\ttotal: 1.11s\tremaining: 902ms\n",
            "276:\tlearn: 1.2903283\ttotal: 1.11s\tremaining: 898ms\n",
            "277:\tlearn: 1.2843921\ttotal: 1.12s\tremaining: 894ms\n",
            "278:\tlearn: 1.2822273\ttotal: 1.12s\tremaining: 890ms\n",
            "279:\tlearn: 1.2769748\ttotal: 1.13s\tremaining: 886ms\n",
            "280:\tlearn: 1.2744655\ttotal: 1.13s\tremaining: 881ms\n",
            "281:\tlearn: 1.2691183\ttotal: 1.13s\tremaining: 877ms\n",
            "282:\tlearn: 1.2663353\ttotal: 1.14s\tremaining: 873ms\n",
            "283:\tlearn: 1.2631518\ttotal: 1.14s\tremaining: 869ms\n",
            "284:\tlearn: 1.2608343\ttotal: 1.16s\tremaining: 874ms\n",
            "285:\tlearn: 1.2590796\ttotal: 1.17s\tremaining: 873ms\n",
            "286:\tlearn: 1.2577812\ttotal: 1.17s\tremaining: 869ms\n",
            "287:\tlearn: 1.2545271\ttotal: 1.18s\tremaining: 865ms\n",
            "288:\tlearn: 1.2503019\ttotal: 1.18s\tremaining: 861ms\n",
            "289:\tlearn: 1.2456105\ttotal: 1.18s\tremaining: 857ms\n",
            "290:\tlearn: 1.2433171\ttotal: 1.19s\tremaining: 853ms\n",
            "291:\tlearn: 1.2399573\ttotal: 1.19s\tremaining: 848ms\n",
            "292:\tlearn: 1.2342155\ttotal: 1.2s\tremaining: 844ms\n",
            "293:\tlearn: 1.2292011\ttotal: 1.2s\tremaining: 842ms\n",
            "294:\tlearn: 1.2267384\ttotal: 1.21s\tremaining: 838ms\n",
            "295:\tlearn: 1.2249636\ttotal: 1.21s\tremaining: 834ms\n",
            "296:\tlearn: 1.2236141\ttotal: 1.21s\tremaining: 830ms\n",
            "297:\tlearn: 1.2192614\ttotal: 1.22s\tremaining: 825ms\n",
            "298:\tlearn: 1.2171522\ttotal: 1.22s\tremaining: 821ms\n",
            "299:\tlearn: 1.2159088\ttotal: 1.23s\tremaining: 818ms\n",
            "300:\tlearn: 1.2129318\ttotal: 1.23s\tremaining: 814ms\n",
            "301:\tlearn: 1.2088243\ttotal: 1.24s\tremaining: 810ms\n",
            "302:\tlearn: 1.2047926\ttotal: 1.24s\tremaining: 806ms\n",
            "303:\tlearn: 1.2021745\ttotal: 1.24s\tremaining: 802ms\n",
            "304:\tlearn: 1.2010342\ttotal: 1.25s\tremaining: 797ms\n",
            "305:\tlearn: 1.1983295\ttotal: 1.25s\tremaining: 793ms\n",
            "306:\tlearn: 1.1953687\ttotal: 1.25s\tremaining: 789ms\n",
            "307:\tlearn: 1.1929047\ttotal: 1.26s\tremaining: 785ms\n",
            "308:\tlearn: 1.1920211\ttotal: 1.26s\tremaining: 780ms\n",
            "309:\tlearn: 1.1894875\ttotal: 1.27s\tremaining: 776ms\n",
            "310:\tlearn: 1.1856183\ttotal: 1.27s\tremaining: 774ms\n",
            "311:\tlearn: 1.1810749\ttotal: 1.28s\tremaining: 771ms\n",
            "312:\tlearn: 1.1783339\ttotal: 1.28s\tremaining: 767ms\n",
            "313:\tlearn: 1.1754908\ttotal: 1.29s\tremaining: 763ms\n",
            "314:\tlearn: 1.1734965\ttotal: 1.29s\tremaining: 758ms\n",
            "315:\tlearn: 1.1694704\ttotal: 1.29s\tremaining: 754ms\n",
            "316:\tlearn: 1.1669846\ttotal: 1.3s\tremaining: 750ms\n",
            "317:\tlearn: 1.1638331\ttotal: 1.3s\tremaining: 746ms\n",
            "318:\tlearn: 1.1610394\ttotal: 1.31s\tremaining: 741ms\n",
            "319:\tlearn: 1.1568426\ttotal: 1.31s\tremaining: 737ms\n",
            "320:\tlearn: 1.1541412\ttotal: 1.31s\tremaining: 733ms\n",
            "321:\tlearn: 1.1515660\ttotal: 1.32s\tremaining: 729ms\n",
            "322:\tlearn: 1.1474958\ttotal: 1.32s\tremaining: 725ms\n",
            "323:\tlearn: 1.1464695\ttotal: 1.33s\tremaining: 723ms\n",
            "324:\tlearn: 1.1451546\ttotal: 1.33s\tremaining: 718ms\n",
            "325:\tlearn: 1.1424170\ttotal: 1.34s\tremaining: 714ms\n",
            "326:\tlearn: 1.1401919\ttotal: 1.34s\tremaining: 710ms\n",
            "327:\tlearn: 1.1377303\ttotal: 1.35s\tremaining: 706ms\n",
            "328:\tlearn: 1.1350878\ttotal: 1.35s\tremaining: 702ms\n",
            "329:\tlearn: 1.1318529\ttotal: 1.36s\tremaining: 700ms\n",
            "330:\tlearn: 1.1294373\ttotal: 1.36s\tremaining: 695ms\n",
            "331:\tlearn: 1.1287244\ttotal: 1.36s\tremaining: 691ms\n",
            "332:\tlearn: 1.1272511\ttotal: 1.37s\tremaining: 687ms\n",
            "333:\tlearn: 1.1247767\ttotal: 1.37s\tremaining: 683ms\n",
            "334:\tlearn: 1.1213287\ttotal: 1.38s\tremaining: 679ms\n",
            "335:\tlearn: 1.1207223\ttotal: 1.38s\tremaining: 674ms\n",
            "336:\tlearn: 1.1161704\ttotal: 1.39s\tremaining: 670ms\n",
            "337:\tlearn: 1.1146076\ttotal: 1.39s\tremaining: 666ms\n",
            "338:\tlearn: 1.1120199\ttotal: 1.39s\tremaining: 662ms\n",
            "339:\tlearn: 1.1077569\ttotal: 1.4s\tremaining: 659ms\n",
            "340:\tlearn: 1.1061321\ttotal: 1.41s\tremaining: 655ms\n",
            "341:\tlearn: 1.1037110\ttotal: 1.41s\tremaining: 651ms\n",
            "342:\tlearn: 1.1023322\ttotal: 1.41s\tremaining: 647ms\n",
            "343:\tlearn: 1.1005299\ttotal: 1.42s\tremaining: 643ms\n",
            "344:\tlearn: 1.0979595\ttotal: 1.42s\tremaining: 638ms\n",
            "345:\tlearn: 1.0961573\ttotal: 1.43s\tremaining: 634ms\n",
            "346:\tlearn: 1.0950062\ttotal: 1.43s\tremaining: 630ms\n",
            "347:\tlearn: 1.0923433\ttotal: 1.43s\tremaining: 626ms\n",
            "348:\tlearn: 1.0900594\ttotal: 1.44s\tremaining: 622ms\n",
            "349:\tlearn: 1.0894046\ttotal: 1.44s\tremaining: 617ms\n",
            "350:\tlearn: 1.0881210\ttotal: 1.44s\tremaining: 613ms\n",
            "351:\tlearn: 1.0863499\ttotal: 1.45s\tremaining: 609ms\n",
            "352:\tlearn: 1.0842507\ttotal: 1.45s\tremaining: 605ms\n",
            "353:\tlearn: 1.0816672\ttotal: 1.46s\tremaining: 601ms\n",
            "354:\tlearn: 1.0812180\ttotal: 1.46s\tremaining: 596ms\n",
            "355:\tlearn: 1.0793587\ttotal: 1.46s\tremaining: 592ms\n",
            "356:\tlearn: 1.0755541\ttotal: 1.47s\tremaining: 588ms\n",
            "357:\tlearn: 1.0731118\ttotal: 1.47s\tremaining: 584ms\n",
            "358:\tlearn: 1.0690579\ttotal: 1.48s\tremaining: 580ms\n",
            "359:\tlearn: 1.0670911\ttotal: 1.48s\tremaining: 575ms\n",
            "360:\tlearn: 1.0647887\ttotal: 1.48s\tremaining: 571ms\n",
            "361:\tlearn: 1.0612121\ttotal: 1.49s\tremaining: 567ms\n",
            "362:\tlearn: 1.0589375\ttotal: 1.49s\tremaining: 563ms\n",
            "363:\tlearn: 1.0579730\ttotal: 1.49s\tremaining: 559ms\n",
            "364:\tlearn: 1.0548353\ttotal: 1.5s\tremaining: 554ms\n",
            "365:\tlearn: 1.0536747\ttotal: 1.5s\tremaining: 550ms\n",
            "366:\tlearn: 1.0521050\ttotal: 1.51s\tremaining: 546ms\n",
            "367:\tlearn: 1.0511807\ttotal: 1.51s\tremaining: 542ms\n",
            "368:\tlearn: 1.0507321\ttotal: 1.51s\tremaining: 538ms\n",
            "369:\tlearn: 1.0492932\ttotal: 1.52s\tremaining: 533ms\n",
            "370:\tlearn: 1.0474178\ttotal: 1.52s\tremaining: 529ms\n",
            "371:\tlearn: 1.0455688\ttotal: 1.53s\tremaining: 525ms\n",
            "372:\tlearn: 1.0437458\ttotal: 1.53s\tremaining: 521ms\n",
            "373:\tlearn: 1.0418811\ttotal: 1.53s\tremaining: 517ms\n",
            "374:\tlearn: 1.0408130\ttotal: 1.54s\tremaining: 513ms\n",
            "375:\tlearn: 1.0399585\ttotal: 1.54s\tremaining: 508ms\n",
            "376:\tlearn: 1.0377547\ttotal: 1.55s\tremaining: 506ms\n",
            "377:\tlearn: 1.0348673\ttotal: 1.55s\tremaining: 501ms\n",
            "378:\tlearn: 1.0324015\ttotal: 1.56s\tremaining: 498ms\n",
            "379:\tlearn: 1.0312209\ttotal: 1.56s\tremaining: 494ms\n",
            "380:\tlearn: 1.0280386\ttotal: 1.57s\tremaining: 490ms\n",
            "381:\tlearn: 1.0270941\ttotal: 1.57s\tremaining: 485ms\n",
            "382:\tlearn: 1.0257384\ttotal: 1.57s\tremaining: 481ms\n",
            "383:\tlearn: 1.0237386\ttotal: 1.58s\tremaining: 477ms\n",
            "384:\tlearn: 1.0220149\ttotal: 1.58s\tremaining: 473ms\n",
            "385:\tlearn: 1.0202789\ttotal: 1.59s\tremaining: 468ms\n",
            "386:\tlearn: 1.0191845\ttotal: 1.59s\tremaining: 464ms\n",
            "387:\tlearn: 1.0181116\ttotal: 1.59s\tremaining: 460ms\n",
            "388:\tlearn: 1.0151417\ttotal: 1.6s\tremaining: 457ms\n",
            "389:\tlearn: 1.0135264\ttotal: 1.6s\tremaining: 453ms\n",
            "390:\tlearn: 1.0116886\ttotal: 1.61s\tremaining: 449ms\n",
            "391:\tlearn: 1.0105441\ttotal: 1.61s\tremaining: 444ms\n",
            "392:\tlearn: 1.0085754\ttotal: 1.62s\tremaining: 440ms\n",
            "393:\tlearn: 1.0058148\ttotal: 1.62s\tremaining: 436ms\n",
            "394:\tlearn: 1.0043738\ttotal: 1.62s\tremaining: 432ms\n",
            "395:\tlearn: 1.0024502\ttotal: 1.63s\tremaining: 428ms\n",
            "396:\tlearn: 1.0016274\ttotal: 1.63s\tremaining: 424ms\n",
            "397:\tlearn: 0.9994104\ttotal: 1.64s\tremaining: 419ms\n",
            "398:\tlearn: 0.9983074\ttotal: 1.64s\tremaining: 415ms\n",
            "399:\tlearn: 0.9952432\ttotal: 1.64s\tremaining: 411ms\n",
            "400:\tlearn: 0.9939575\ttotal: 1.65s\tremaining: 407ms\n",
            "401:\tlearn: 0.9928165\ttotal: 1.65s\tremaining: 403ms\n",
            "402:\tlearn: 0.9919472\ttotal: 1.66s\tremaining: 398ms\n",
            "403:\tlearn: 0.9904423\ttotal: 1.66s\tremaining: 394ms\n",
            "404:\tlearn: 0.9886032\ttotal: 1.66s\tremaining: 390ms\n",
            "405:\tlearn: 0.9876290\ttotal: 1.67s\tremaining: 386ms\n",
            "406:\tlearn: 0.9860664\ttotal: 1.67s\tremaining: 382ms\n",
            "407:\tlearn: 0.9848921\ttotal: 1.67s\tremaining: 378ms\n",
            "408:\tlearn: 0.9835261\ttotal: 1.68s\tremaining: 373ms\n",
            "409:\tlearn: 0.9825926\ttotal: 1.68s\tremaining: 369ms\n",
            "410:\tlearn: 0.9813175\ttotal: 1.69s\tremaining: 365ms\n",
            "411:\tlearn: 0.9800667\ttotal: 1.69s\tremaining: 361ms\n",
            "412:\tlearn: 0.9789864\ttotal: 1.69s\tremaining: 357ms\n",
            "413:\tlearn: 0.9780446\ttotal: 1.7s\tremaining: 353ms\n",
            "414:\tlearn: 0.9772711\ttotal: 1.7s\tremaining: 348ms\n",
            "415:\tlearn: 0.9765874\ttotal: 1.7s\tremaining: 344ms\n",
            "416:\tlearn: 0.9757396\ttotal: 1.71s\tremaining: 340ms\n",
            "417:\tlearn: 0.9740148\ttotal: 1.71s\tremaining: 336ms\n",
            "418:\tlearn: 0.9719679\ttotal: 1.72s\tremaining: 332ms\n",
            "419:\tlearn: 0.9705835\ttotal: 1.72s\tremaining: 328ms\n",
            "420:\tlearn: 0.9702454\ttotal: 1.72s\tremaining: 323ms\n",
            "421:\tlearn: 0.9696801\ttotal: 1.73s\tremaining: 319ms\n",
            "422:\tlearn: 0.9687262\ttotal: 1.74s\tremaining: 316ms\n",
            "423:\tlearn: 0.9668371\ttotal: 1.74s\tremaining: 312ms\n",
            "424:\tlearn: 0.9638244\ttotal: 1.74s\tremaining: 308ms\n",
            "425:\tlearn: 0.9631042\ttotal: 1.75s\tremaining: 304ms\n",
            "426:\tlearn: 0.9617712\ttotal: 1.75s\tremaining: 299ms\n",
            "427:\tlearn: 0.9604540\ttotal: 1.76s\tremaining: 296ms\n",
            "428:\tlearn: 0.9595091\ttotal: 1.76s\tremaining: 292ms\n",
            "429:\tlearn: 0.9587498\ttotal: 1.77s\tremaining: 288ms\n",
            "430:\tlearn: 0.9567336\ttotal: 1.77s\tremaining: 283ms\n",
            "431:\tlearn: 0.9557161\ttotal: 1.77s\tremaining: 279ms\n",
            "432:\tlearn: 0.9542271\ttotal: 1.78s\tremaining: 275ms\n",
            "433:\tlearn: 0.9526858\ttotal: 1.78s\tremaining: 271ms\n",
            "434:\tlearn: 0.9519976\ttotal: 1.78s\tremaining: 267ms\n",
            "435:\tlearn: 0.9498219\ttotal: 1.8s\tremaining: 264ms\n",
            "436:\tlearn: 0.9485271\ttotal: 1.8s\tremaining: 260ms\n",
            "437:\tlearn: 0.9462255\ttotal: 1.81s\tremaining: 256ms\n",
            "438:\tlearn: 0.9452091\ttotal: 1.81s\tremaining: 252ms\n",
            "439:\tlearn: 0.9427858\ttotal: 1.81s\tremaining: 248ms\n",
            "440:\tlearn: 0.9417407\ttotal: 1.82s\tremaining: 243ms\n",
            "441:\tlearn: 0.9400569\ttotal: 1.82s\tremaining: 239ms\n",
            "442:\tlearn: 0.9379395\ttotal: 1.83s\tremaining: 235ms\n",
            "443:\tlearn: 0.9373233\ttotal: 1.83s\tremaining: 231ms\n",
            "444:\tlearn: 0.9366347\ttotal: 1.83s\tremaining: 227ms\n",
            "445:\tlearn: 0.9351852\ttotal: 1.84s\tremaining: 223ms\n",
            "446:\tlearn: 0.9337921\ttotal: 1.84s\tremaining: 218ms\n",
            "447:\tlearn: 0.9323338\ttotal: 1.85s\tremaining: 214ms\n",
            "448:\tlearn: 0.9307080\ttotal: 1.85s\tremaining: 211ms\n",
            "449:\tlearn: 0.9285240\ttotal: 1.86s\tremaining: 207ms\n",
            "450:\tlearn: 0.9263868\ttotal: 1.86s\tremaining: 202ms\n",
            "451:\tlearn: 0.9251705\ttotal: 1.87s\tremaining: 198ms\n",
            "452:\tlearn: 0.9246436\ttotal: 1.87s\tremaining: 194ms\n",
            "453:\tlearn: 0.9235822\ttotal: 1.87s\tremaining: 190ms\n",
            "454:\tlearn: 0.9219041\ttotal: 1.88s\tremaining: 186ms\n",
            "455:\tlearn: 0.9194572\ttotal: 1.88s\tremaining: 182ms\n",
            "456:\tlearn: 0.9177547\ttotal: 1.89s\tremaining: 177ms\n",
            "457:\tlearn: 0.9160031\ttotal: 1.89s\tremaining: 173ms\n",
            "458:\tlearn: 0.9142947\ttotal: 1.89s\tremaining: 169ms\n",
            "459:\tlearn: 0.9129544\ttotal: 1.9s\tremaining: 165ms\n",
            "460:\tlearn: 0.9116206\ttotal: 1.9s\tremaining: 161ms\n",
            "461:\tlearn: 0.9102512\ttotal: 1.91s\tremaining: 157ms\n",
            "462:\tlearn: 0.9087125\ttotal: 1.91s\tremaining: 153ms\n",
            "463:\tlearn: 0.9063636\ttotal: 1.92s\tremaining: 149ms\n",
            "464:\tlearn: 0.9051199\ttotal: 1.92s\tremaining: 145ms\n",
            "465:\tlearn: 0.9033711\ttotal: 1.92s\tremaining: 140ms\n",
            "466:\tlearn: 0.9022374\ttotal: 1.93s\tremaining: 136ms\n",
            "467:\tlearn: 0.9003928\ttotal: 1.93s\tremaining: 132ms\n",
            "468:\tlearn: 0.8993964\ttotal: 1.94s\tremaining: 128ms\n",
            "469:\tlearn: 0.8982666\ttotal: 1.94s\tremaining: 124ms\n",
            "470:\tlearn: 0.8975501\ttotal: 1.94s\tremaining: 120ms\n",
            "471:\tlearn: 0.8962611\ttotal: 1.95s\tremaining: 115ms\n",
            "472:\tlearn: 0.8955637\ttotal: 1.95s\tremaining: 111ms\n",
            "473:\tlearn: 0.8939289\ttotal: 1.96s\tremaining: 107ms\n",
            "474:\tlearn: 0.8913656\ttotal: 1.96s\tremaining: 103ms\n",
            "475:\tlearn: 0.8908637\ttotal: 1.97s\tremaining: 99.2ms\n",
            "476:\tlearn: 0.8904049\ttotal: 1.97s\tremaining: 95ms\n",
            "477:\tlearn: 0.8895650\ttotal: 1.97s\tremaining: 90.9ms\n",
            "478:\tlearn: 0.8877682\ttotal: 1.98s\tremaining: 86.7ms\n",
            "479:\tlearn: 0.8856536\ttotal: 1.98s\tremaining: 82.6ms\n",
            "480:\tlearn: 0.8838817\ttotal: 1.99s\tremaining: 78.5ms\n",
            "481:\tlearn: 0.8834612\ttotal: 1.99s\tremaining: 74.3ms\n",
            "482:\tlearn: 0.8822827\ttotal: 2s\tremaining: 70.3ms\n",
            "483:\tlearn: 0.8815137\ttotal: 2s\tremaining: 66.2ms\n",
            "484:\tlearn: 0.8810376\ttotal: 2s\tremaining: 62ms\n",
            "485:\tlearn: 0.8803977\ttotal: 2.01s\tremaining: 57.9ms\n",
            "486:\tlearn: 0.8787855\ttotal: 2.01s\tremaining: 53.7ms\n",
            "487:\tlearn: 0.8766190\ttotal: 2.02s\tremaining: 49.6ms\n",
            "488:\tlearn: 0.8749699\ttotal: 2.02s\tremaining: 45.5ms\n",
            "489:\tlearn: 0.8743950\ttotal: 2.02s\tremaining: 41.3ms\n",
            "490:\tlearn: 0.8730129\ttotal: 2.03s\tremaining: 37.2ms\n",
            "491:\tlearn: 0.8714775\ttotal: 2.03s\tremaining: 33.1ms\n",
            "492:\tlearn: 0.8703407\ttotal: 2.04s\tremaining: 28.9ms\n",
            "493:\tlearn: 0.8691022\ttotal: 2.04s\tremaining: 24.8ms\n",
            "494:\tlearn: 0.8674247\ttotal: 2.04s\tremaining: 20.6ms\n",
            "495:\tlearn: 0.8663404\ttotal: 2.05s\tremaining: 16.5ms\n",
            "496:\tlearn: 0.8644774\ttotal: 2.05s\tremaining: 12.4ms\n",
            "497:\tlearn: 0.8628477\ttotal: 2.06s\tremaining: 8.25ms\n",
            "498:\tlearn: 0.8607573\ttotal: 2.06s\tremaining: 4.13ms\n",
            "499:\tlearn: 0.8587102\ttotal: 2.06s\tremaining: 0us\n",
            "2.3366452611117268\n"
          ],
          "name": "stdout"
        }
      ]
    },
    {
      "cell_type": "markdown",
      "metadata": {
        "id": "8szTquoGeTQG",
        "colab_type": "text"
      },
      "source": [
        "###Dealing with the test set"
      ]
    },
    {
      "cell_type": "code",
      "metadata": {
        "id": "sovBvx0gC-9K",
        "colab_type": "code",
        "colab": {
          "base_uri": "https://localhost:8080/",
          "height": 296
        },
        "outputId": "32c54b46-7d69-47e8-d283-17ee143cbfce"
      },
      "source": [
        "missing_percentage=(test.isna().sum()/len(test)).sort_values(ascending=False)\n",
        "missing_percentage"
      ],
      "execution_count": null,
      "outputs": [
        {
          "output_type": "execute_result",
          "data": {
            "text/plain": [
              "Price                 1.000000\n",
              "Seats                 0.003322\n",
              "Power                 0.002492\n",
              "Engine                0.002492\n",
              "price_per_Location    0.000000\n",
              "Year                  0.000000\n",
              "Transmission          0.000000\n",
              "Owner_Type            0.000000\n",
              "Name                  0.000000\n",
              "Mileage               0.000000\n",
              "Location              0.000000\n",
              "Kilometers_Driven     0.000000\n",
              "ID                    0.000000\n",
              "Fuel_Type             0.000000\n",
              "dtype: float64"
            ]
          },
          "metadata": {
            "tags": []
          },
          "execution_count": 1116
        }
      ]
    },
    {
      "cell_type": "code",
      "metadata": {
        "id": "OkGwVF4sJca9",
        "colab_type": "code",
        "colab": {
          "base_uri": "https://localhost:8080/",
          "height": 110
        },
        "outputId": "a06a5167-2fa7-4134-93be-330853c75293"
      },
      "source": [
        "#How I discovered that the test set has less car company names than the training set (53 to 59)\n",
        "test.Name.unique()"
      ],
      "execution_count": null,
      "outputs": [
        {
          "output_type": "execute_result",
          "data": {
            "text/plain": [
              "array(['Mercedes-Benz', 'Maruti', 'Ford', 'Honda', 'Volkswagen',\n",
              "       'Renault', 'Hyundai', 'Chevrolet', 'Audi', 'Mahindra', 'Toyota',\n",
              "       'Skoda', 'BMW', 'Land', 'Mini', 'Mitsubishi', 'Tata', 'Jeep',\n",
              "       'Jaguar', 'ISUZU', 'Porsche', 'Nissan', 'Datsun', 'Fiat', 'Volvo'],\n",
              "      dtype=object)"
            ]
          },
          "metadata": {
            "tags": []
          },
          "execution_count": 1114
        }
      ]
    },
    {
      "cell_type": "code",
      "metadata": {
        "id": "wFEQetaZ_jjp",
        "colab_type": "code",
        "colab": {}
      },
      "source": [
        "L=test['Mileage'].str.extract(r'(?P<digit>(\\d+.\\d+))')[\"digit\"]\n",
        "L=L.tolist()\n",
        "test[\"Mileage\"]=L\n",
        "test[\"Mileage\"]=pd.to_numeric(test[\"Mileage\"])"
      ],
      "execution_count": null,
      "outputs": []
    },
    {
      "cell_type": "code",
      "metadata": {
        "id": "i1bGG_-DC5cF",
        "colab_type": "code",
        "colab": {}
      },
      "source": [
        "L=test['Engine'].str.extract(r'(?P<digit>(\\d+))')[\"digit\"]\n",
        "L=L.tolist()\n",
        "test[\"Engine\"]=L\n",
        "test[\"Engine\"]=pd.to_numeric(test[\"Engine\"])"
      ],
      "execution_count": null,
      "outputs": []
    },
    {
      "cell_type": "code",
      "metadata": {
        "id": "9P54XlKXEGbF",
        "colab_type": "code",
        "colab": {}
      },
      "source": [
        "L=test['Power'].str.extract(r'(?P<digit>(\\d+))')[\"digit\"]\n",
        "L=L.tolist()\n",
        "test[\"Power\"]=L\n",
        "test[\"Power\"]=pd.to_numeric(test[\"Power\"])"
      ],
      "execution_count": null,
      "outputs": []
    },
    {
      "cell_type": "code",
      "metadata": {
        "id": "8LL1q8_P3dm2",
        "colab_type": "code",
        "colab": {}
      },
      "source": [
        "to_drop2=[\"ID\",\"Price\"]"
      ],
      "execution_count": null,
      "outputs": []
    },
    {
      "cell_type": "code",
      "metadata": {
        "id": "icKgosw23lD7",
        "colab_type": "code",
        "colab": {}
      },
      "source": [
        "test=test.drop(to_drop2,axis=1)"
      ],
      "execution_count": null,
      "outputs": []
    },
    {
      "cell_type": "code",
      "metadata": {
        "id": "yu7qLMDd3o60",
        "colab_type": "code",
        "colab": {}
      },
      "source": [
        "test=pd.get_dummies(test)"
      ],
      "execution_count": null,
      "outputs": []
    },
    {
      "cell_type": "code",
      "metadata": {
        "id": "xbM9_Myd3tRK",
        "colab_type": "code",
        "colab": {
          "base_uri": "https://localhost:8080/",
          "height": 36
        },
        "outputId": "e7586d3b-0aae-4f44-e6bd-7c40a852ecea"
      },
      "source": [
        "test.shape"
      ],
      "execution_count": null,
      "outputs": [
        {
          "output_type": "execute_result",
          "data": {
            "text/plain": [
              "(1204, 52)"
            ]
          },
          "metadata": {
            "tags": []
          },
          "execution_count": 1123
        }
      ]
    },
    {
      "cell_type": "markdown",
      "metadata": {
        "id": "66LIeZFOd-4K",
        "colab_type": "text"
      },
      "source": [
        "#Testing"
      ]
    },
    {
      "cell_type": "code",
      "metadata": {
        "id": "_7Tcmw8d3dpR",
        "colab_type": "code",
        "colab": {}
      },
      "source": [
        "# make predictions which we will submit. \n",
        "test_preds_xgb = xgb_model.predict(test)\n",
        "\n",
        "# The lines below shows how to save predictions in format used for competition scoring\n",
        "# Just uncomment them.\n",
        "output = pd.DataFrame({'ID': ids, 'Price': (test_preds_xgb)})\n",
        "output.to_csv('/content/drive/My Drive/DATACEPT COMP4/sub_xgb.csv', index=False)"
      ],
      "execution_count": null,
      "outputs": []
    },
    {
      "cell_type": "code",
      "metadata": {
        "id": "0nMuTF-V3dkR",
        "colab_type": "code",
        "colab": {}
      },
      "source": [
        "# make predictions which we will submit. \n",
        "test_preds_lgb = lgb_model.predict(test)\n",
        "\n",
        "# The lines below shows how to save predictions in format used for competition scoring\n",
        "# Just uncomment them.\n",
        "output = pd.DataFrame({'ID': ids, 'price': (test_preds_lgb)})\n",
        "output.to_csv('/content/drive/My Drive/DATACEPT COMP4/sub_lgb.csv', index=False)"
      ],
      "execution_count": null,
      "outputs": []
    },
    {
      "cell_type": "markdown",
      "metadata": {
        "id": "JHol-_afeEM3",
        "colab_type": "text"
      },
      "source": [
        "### Best model"
      ]
    },
    {
      "cell_type": "code",
      "metadata": {
        "id": "4XBSiZnYEm8f",
        "colab_type": "code",
        "colab": {}
      },
      "source": [
        "# make predictions which we will submit. \n",
        "test_preds_m5alet = 0.3*test_preds_lgb+0.7*test_preds\n",
        "\n",
        "# The lines below shows how to save predictions in format used for competition scoring\n",
        "# Just uncomment them.\n",
        "output = pd.DataFrame({'ID': ids, 'price': (test_preds_m5alet)})\n",
        "output.to_csv('/content/drive/My Drive/DATACEPT COMP4/m5alet.csv', index=False)"
      ],
      "execution_count": null,
      "outputs": []
    },
    {
      "cell_type": "code",
      "metadata": {
        "id": "-Gz2Q7MNHHm7",
        "colab_type": "code",
        "colab": {}
      },
      "source": [
        "# make predictions which we will submit. \n",
        "test_preds = model.predict(test)\n",
        "\n",
        "# The lines below shows how to save predictions in format used for competition scoring\n",
        "# Just uncomment them.\n",
        "output = pd.DataFrame({'ID': ids, 'Price': (test_preds)})\n",
        "output.to_csv('/content/drive/My Drive/DATACEPT COMP4/sub_cat.csv', index=False)"
      ],
      "execution_count": null,
      "outputs": []
    }
  ]
}